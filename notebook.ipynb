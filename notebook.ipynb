{
 "cells": [
  {
   "cell_type": "code",
   "execution_count": 1,
   "id": "383f1d9b-3873-4a8a-b8b8-ee9ec7d02b0f",
   "metadata": {
    "scrolled": true
   },
   "outputs": [],
   "source": [
    "import numpy as np\n",
    "import matplotlib.pyplot as plt\n",
    "import pandas as pd\n",
    "import seaborn as sns\n",
    "\n",
    "from sklearn.preprocessing import LabelEncoder\n",
    "\n",
    "%matplotlib inline"
   ]
  },
  {
   "cell_type": "markdown",
   "id": "a8f4820c-ea2a-481a-b82b-ab93e4919fad",
   "metadata": {},
   "source": [
    "# Exploratory data analysis\n",
    "\n",
    "This project will use the [Heart Failure Prediction dataset](https://www.kaggle.com/datasets/fedesoriano/heart-failure-prediction).\n",
    "\n",
    "Given some parameters of the person, predict whether the person has heart failure.\n",
    "\n",
    "The exploratory data analysis will inspect the data to see whether the dataset is balanced, has outliers, determine ranges of values, etc."
   ]
  },
  {
   "cell_type": "code",
   "execution_count": 2,
   "id": "5bb6a69b-4055-4c70-8162-1edb3aca842c",
   "metadata": {},
   "outputs": [
    {
     "data": {
      "text/html": [
       "<div>\n",
       "<style scoped>\n",
       "    .dataframe tbody tr th:only-of-type {\n",
       "        vertical-align: middle;\n",
       "    }\n",
       "\n",
       "    .dataframe tbody tr th {\n",
       "        vertical-align: top;\n",
       "    }\n",
       "\n",
       "    .dataframe thead th {\n",
       "        text-align: right;\n",
       "    }\n",
       "</style>\n",
       "<table border=\"1\" class=\"dataframe\">\n",
       "  <thead>\n",
       "    <tr style=\"text-align: right;\">\n",
       "      <th></th>\n",
       "      <th>Age</th>\n",
       "      <th>Sex</th>\n",
       "      <th>ChestPainType</th>\n",
       "      <th>RestingBP</th>\n",
       "      <th>Cholesterol</th>\n",
       "      <th>FastingBS</th>\n",
       "      <th>RestingECG</th>\n",
       "      <th>MaxHR</th>\n",
       "      <th>ExerciseAngina</th>\n",
       "      <th>Oldpeak</th>\n",
       "      <th>ST_Slope</th>\n",
       "      <th>HeartDisease</th>\n",
       "    </tr>\n",
       "  </thead>\n",
       "  <tbody>\n",
       "    <tr>\n",
       "      <th>0</th>\n",
       "      <td>40</td>\n",
       "      <td>M</td>\n",
       "      <td>ATA</td>\n",
       "      <td>140</td>\n",
       "      <td>289</td>\n",
       "      <td>0</td>\n",
       "      <td>Normal</td>\n",
       "      <td>172</td>\n",
       "      <td>N</td>\n",
       "      <td>0.0</td>\n",
       "      <td>Up</td>\n",
       "      <td>0</td>\n",
       "    </tr>\n",
       "    <tr>\n",
       "      <th>1</th>\n",
       "      <td>49</td>\n",
       "      <td>F</td>\n",
       "      <td>NAP</td>\n",
       "      <td>160</td>\n",
       "      <td>180</td>\n",
       "      <td>0</td>\n",
       "      <td>Normal</td>\n",
       "      <td>156</td>\n",
       "      <td>N</td>\n",
       "      <td>1.0</td>\n",
       "      <td>Flat</td>\n",
       "      <td>1</td>\n",
       "    </tr>\n",
       "    <tr>\n",
       "      <th>2</th>\n",
       "      <td>37</td>\n",
       "      <td>M</td>\n",
       "      <td>ATA</td>\n",
       "      <td>130</td>\n",
       "      <td>283</td>\n",
       "      <td>0</td>\n",
       "      <td>ST</td>\n",
       "      <td>98</td>\n",
       "      <td>N</td>\n",
       "      <td>0.0</td>\n",
       "      <td>Up</td>\n",
       "      <td>0</td>\n",
       "    </tr>\n",
       "    <tr>\n",
       "      <th>3</th>\n",
       "      <td>48</td>\n",
       "      <td>F</td>\n",
       "      <td>ASY</td>\n",
       "      <td>138</td>\n",
       "      <td>214</td>\n",
       "      <td>0</td>\n",
       "      <td>Normal</td>\n",
       "      <td>108</td>\n",
       "      <td>Y</td>\n",
       "      <td>1.5</td>\n",
       "      <td>Flat</td>\n",
       "      <td>1</td>\n",
       "    </tr>\n",
       "    <tr>\n",
       "      <th>4</th>\n",
       "      <td>54</td>\n",
       "      <td>M</td>\n",
       "      <td>NAP</td>\n",
       "      <td>150</td>\n",
       "      <td>195</td>\n",
       "      <td>0</td>\n",
       "      <td>Normal</td>\n",
       "      <td>122</td>\n",
       "      <td>N</td>\n",
       "      <td>0.0</td>\n",
       "      <td>Up</td>\n",
       "      <td>0</td>\n",
       "    </tr>\n",
       "  </tbody>\n",
       "</table>\n",
       "</div>"
      ],
      "text/plain": [
       "   Age Sex ChestPainType  RestingBP  Cholesterol  FastingBS RestingECG  MaxHR  \\\n",
       "0   40   M           ATA        140          289          0     Normal    172   \n",
       "1   49   F           NAP        160          180          0     Normal    156   \n",
       "2   37   M           ATA        130          283          0         ST     98   \n",
       "3   48   F           ASY        138          214          0     Normal    108   \n",
       "4   54   M           NAP        150          195          0     Normal    122   \n",
       "\n",
       "  ExerciseAngina  Oldpeak ST_Slope  HeartDisease  \n",
       "0              N      0.0       Up             0  \n",
       "1              N      1.0     Flat             1  \n",
       "2              N      0.0       Up             0  \n",
       "3              Y      1.5     Flat             1  \n",
       "4              N      0.0       Up             0  "
      ]
     },
     "execution_count": 2,
     "metadata": {},
     "output_type": "execute_result"
    }
   ],
   "source": [
    "orig_df = pd.read_csv('data/heart.csv')\n",
    "orig_df.head()"
   ]
  },
  {
   "cell_type": "code",
   "execution_count": 3,
   "id": "efa8e29e-c5fa-417a-a101-e3ec4f65615b",
   "metadata": {},
   "outputs": [
    {
     "data": {
      "text/plain": [
       "(918, 12)"
      ]
     },
     "execution_count": 3,
     "metadata": {},
     "output_type": "execute_result"
    }
   ],
   "source": [
    "orig_df.shape"
   ]
  },
  {
   "cell_type": "code",
   "execution_count": 4,
   "id": "4347fc38-2a1a-44f5-8e11-ed6a85cafb7a",
   "metadata": {},
   "outputs": [
    {
     "name": "stdout",
     "output_type": "stream",
     "text": [
      "<class 'pandas.core.frame.DataFrame'>\n",
      "RangeIndex: 918 entries, 0 to 917\n",
      "Data columns (total 12 columns):\n",
      " #   Column          Non-Null Count  Dtype  \n",
      "---  ------          --------------  -----  \n",
      " 0   Age             918 non-null    int64  \n",
      " 1   Sex             918 non-null    object \n",
      " 2   ChestPainType   918 non-null    object \n",
      " 3   RestingBP       918 non-null    int64  \n",
      " 4   Cholesterol     918 non-null    int64  \n",
      " 5   FastingBS       918 non-null    int64  \n",
      " 6   RestingECG      918 non-null    object \n",
      " 7   MaxHR           918 non-null    int64  \n",
      " 8   ExerciseAngina  918 non-null    object \n",
      " 9   Oldpeak         918 non-null    float64\n",
      " 10  ST_Slope        918 non-null    object \n",
      " 11  HeartDisease    918 non-null    int64  \n",
      "dtypes: float64(1), int64(6), object(5)\n",
      "memory usage: 86.2+ KB\n"
     ]
    }
   ],
   "source": [
    "orig_df.info()"
   ]
  },
  {
   "cell_type": "code",
   "execution_count": 5,
   "id": "64bda5a6-3bf7-4cb5-83d9-b4f1430df4fc",
   "metadata": {},
   "outputs": [
    {
     "data": {
      "text/html": [
       "<div>\n",
       "<style scoped>\n",
       "    .dataframe tbody tr th:only-of-type {\n",
       "        vertical-align: middle;\n",
       "    }\n",
       "\n",
       "    .dataframe tbody tr th {\n",
       "        vertical-align: top;\n",
       "    }\n",
       "\n",
       "    .dataframe thead th {\n",
       "        text-align: right;\n",
       "    }\n",
       "</style>\n",
       "<table border=\"1\" class=\"dataframe\">\n",
       "  <thead>\n",
       "    <tr style=\"text-align: right;\">\n",
       "      <th></th>\n",
       "      <th>Age</th>\n",
       "      <th>RestingBP</th>\n",
       "      <th>Cholesterol</th>\n",
       "      <th>FastingBS</th>\n",
       "      <th>MaxHR</th>\n",
       "      <th>Oldpeak</th>\n",
       "      <th>HeartDisease</th>\n",
       "    </tr>\n",
       "  </thead>\n",
       "  <tbody>\n",
       "    <tr>\n",
       "      <th>count</th>\n",
       "      <td>918.000000</td>\n",
       "      <td>918.000000</td>\n",
       "      <td>918.000000</td>\n",
       "      <td>918.000000</td>\n",
       "      <td>918.000000</td>\n",
       "      <td>918.000000</td>\n",
       "      <td>918.000000</td>\n",
       "    </tr>\n",
       "    <tr>\n",
       "      <th>mean</th>\n",
       "      <td>53.510893</td>\n",
       "      <td>132.396514</td>\n",
       "      <td>198.799564</td>\n",
       "      <td>0.233115</td>\n",
       "      <td>136.809368</td>\n",
       "      <td>0.887364</td>\n",
       "      <td>0.553377</td>\n",
       "    </tr>\n",
       "    <tr>\n",
       "      <th>std</th>\n",
       "      <td>9.432617</td>\n",
       "      <td>18.514154</td>\n",
       "      <td>109.384145</td>\n",
       "      <td>0.423046</td>\n",
       "      <td>25.460334</td>\n",
       "      <td>1.066570</td>\n",
       "      <td>0.497414</td>\n",
       "    </tr>\n",
       "    <tr>\n",
       "      <th>min</th>\n",
       "      <td>28.000000</td>\n",
       "      <td>0.000000</td>\n",
       "      <td>0.000000</td>\n",
       "      <td>0.000000</td>\n",
       "      <td>60.000000</td>\n",
       "      <td>-2.600000</td>\n",
       "      <td>0.000000</td>\n",
       "    </tr>\n",
       "    <tr>\n",
       "      <th>25%</th>\n",
       "      <td>47.000000</td>\n",
       "      <td>120.000000</td>\n",
       "      <td>173.250000</td>\n",
       "      <td>0.000000</td>\n",
       "      <td>120.000000</td>\n",
       "      <td>0.000000</td>\n",
       "      <td>0.000000</td>\n",
       "    </tr>\n",
       "    <tr>\n",
       "      <th>50%</th>\n",
       "      <td>54.000000</td>\n",
       "      <td>130.000000</td>\n",
       "      <td>223.000000</td>\n",
       "      <td>0.000000</td>\n",
       "      <td>138.000000</td>\n",
       "      <td>0.600000</td>\n",
       "      <td>1.000000</td>\n",
       "    </tr>\n",
       "    <tr>\n",
       "      <th>75%</th>\n",
       "      <td>60.000000</td>\n",
       "      <td>140.000000</td>\n",
       "      <td>267.000000</td>\n",
       "      <td>0.000000</td>\n",
       "      <td>156.000000</td>\n",
       "      <td>1.500000</td>\n",
       "      <td>1.000000</td>\n",
       "    </tr>\n",
       "    <tr>\n",
       "      <th>max</th>\n",
       "      <td>77.000000</td>\n",
       "      <td>200.000000</td>\n",
       "      <td>603.000000</td>\n",
       "      <td>1.000000</td>\n",
       "      <td>202.000000</td>\n",
       "      <td>6.200000</td>\n",
       "      <td>1.000000</td>\n",
       "    </tr>\n",
       "  </tbody>\n",
       "</table>\n",
       "</div>"
      ],
      "text/plain": [
       "              Age   RestingBP  Cholesterol   FastingBS       MaxHR  \\\n",
       "count  918.000000  918.000000   918.000000  918.000000  918.000000   \n",
       "mean    53.510893  132.396514   198.799564    0.233115  136.809368   \n",
       "std      9.432617   18.514154   109.384145    0.423046   25.460334   \n",
       "min     28.000000    0.000000     0.000000    0.000000   60.000000   \n",
       "25%     47.000000  120.000000   173.250000    0.000000  120.000000   \n",
       "50%     54.000000  130.000000   223.000000    0.000000  138.000000   \n",
       "75%     60.000000  140.000000   267.000000    0.000000  156.000000   \n",
       "max     77.000000  200.000000   603.000000    1.000000  202.000000   \n",
       "\n",
       "          Oldpeak  HeartDisease  \n",
       "count  918.000000    918.000000  \n",
       "mean     0.887364      0.553377  \n",
       "std      1.066570      0.497414  \n",
       "min     -2.600000      0.000000  \n",
       "25%      0.000000      0.000000  \n",
       "50%      0.600000      1.000000  \n",
       "75%      1.500000      1.000000  \n",
       "max      6.200000      1.000000  "
      ]
     },
     "execution_count": 5,
     "metadata": {},
     "output_type": "execute_result"
    }
   ],
   "source": [
    "orig_df.describe()"
   ]
  },
  {
   "cell_type": "code",
   "execution_count": 6,
   "id": "8f1ed9ec-5df3-4e62-8340-252bb77a28ca",
   "metadata": {},
   "outputs": [
    {
     "data": {
      "text/html": [
       "<div>\n",
       "<style scoped>\n",
       "    .dataframe tbody tr th:only-of-type {\n",
       "        vertical-align: middle;\n",
       "    }\n",
       "\n",
       "    .dataframe tbody tr th {\n",
       "        vertical-align: top;\n",
       "    }\n",
       "\n",
       "    .dataframe thead th {\n",
       "        text-align: right;\n",
       "    }\n",
       "</style>\n",
       "<table border=\"1\" class=\"dataframe\">\n",
       "  <thead>\n",
       "    <tr style=\"text-align: right;\">\n",
       "      <th></th>\n",
       "      <th>age</th>\n",
       "      <th>sex</th>\n",
       "      <th>chestpaintype</th>\n",
       "      <th>restingbp</th>\n",
       "      <th>cholesterol</th>\n",
       "      <th>fastingbs</th>\n",
       "      <th>restingecg</th>\n",
       "      <th>maxhr</th>\n",
       "      <th>exerciseangina</th>\n",
       "      <th>oldpeak</th>\n",
       "      <th>st_slope</th>\n",
       "      <th>heartdisease</th>\n",
       "    </tr>\n",
       "  </thead>\n",
       "  <tbody>\n",
       "    <tr>\n",
       "      <th>0</th>\n",
       "      <td>40</td>\n",
       "      <td>M</td>\n",
       "      <td>ATA</td>\n",
       "      <td>140</td>\n",
       "      <td>289</td>\n",
       "      <td>0</td>\n",
       "      <td>Normal</td>\n",
       "      <td>172</td>\n",
       "      <td>N</td>\n",
       "      <td>0.0</td>\n",
       "      <td>Up</td>\n",
       "      <td>0</td>\n",
       "    </tr>\n",
       "    <tr>\n",
       "      <th>1</th>\n",
       "      <td>49</td>\n",
       "      <td>F</td>\n",
       "      <td>NAP</td>\n",
       "      <td>160</td>\n",
       "      <td>180</td>\n",
       "      <td>0</td>\n",
       "      <td>Normal</td>\n",
       "      <td>156</td>\n",
       "      <td>N</td>\n",
       "      <td>1.0</td>\n",
       "      <td>Flat</td>\n",
       "      <td>1</td>\n",
       "    </tr>\n",
       "    <tr>\n",
       "      <th>2</th>\n",
       "      <td>37</td>\n",
       "      <td>M</td>\n",
       "      <td>ATA</td>\n",
       "      <td>130</td>\n",
       "      <td>283</td>\n",
       "      <td>0</td>\n",
       "      <td>ST</td>\n",
       "      <td>98</td>\n",
       "      <td>N</td>\n",
       "      <td>0.0</td>\n",
       "      <td>Up</td>\n",
       "      <td>0</td>\n",
       "    </tr>\n",
       "    <tr>\n",
       "      <th>3</th>\n",
       "      <td>48</td>\n",
       "      <td>F</td>\n",
       "      <td>ASY</td>\n",
       "      <td>138</td>\n",
       "      <td>214</td>\n",
       "      <td>0</td>\n",
       "      <td>Normal</td>\n",
       "      <td>108</td>\n",
       "      <td>Y</td>\n",
       "      <td>1.5</td>\n",
       "      <td>Flat</td>\n",
       "      <td>1</td>\n",
       "    </tr>\n",
       "    <tr>\n",
       "      <th>4</th>\n",
       "      <td>54</td>\n",
       "      <td>M</td>\n",
       "      <td>NAP</td>\n",
       "      <td>150</td>\n",
       "      <td>195</td>\n",
       "      <td>0</td>\n",
       "      <td>Normal</td>\n",
       "      <td>122</td>\n",
       "      <td>N</td>\n",
       "      <td>0.0</td>\n",
       "      <td>Up</td>\n",
       "      <td>0</td>\n",
       "    </tr>\n",
       "  </tbody>\n",
       "</table>\n",
       "</div>"
      ],
      "text/plain": [
       "   age sex chestpaintype  restingbp  cholesterol  fastingbs restingecg  maxhr  \\\n",
       "0   40   M           ATA        140          289          0     Normal    172   \n",
       "1   49   F           NAP        160          180          0     Normal    156   \n",
       "2   37   M           ATA        130          283          0         ST     98   \n",
       "3   48   F           ASY        138          214          0     Normal    108   \n",
       "4   54   M           NAP        150          195          0     Normal    122   \n",
       "\n",
       "  exerciseangina  oldpeak st_slope  heartdisease  \n",
       "0              N      0.0       Up             0  \n",
       "1              N      1.0     Flat             1  \n",
       "2              N      0.0       Up             0  \n",
       "3              Y      1.5     Flat             1  \n",
       "4              N      0.0       Up             0  "
      ]
     },
     "execution_count": 6,
     "metadata": {},
     "output_type": "execute_result"
    }
   ],
   "source": [
    "orig_df.columns = orig_df.columns.str.replace(r'\\W+', '_', regex=True).str.lower()\n",
    "orig_df.head()"
   ]
  },
  {
   "cell_type": "code",
   "execution_count": 7,
   "id": "8bc9e86c-1a0d-479d-98b4-3b2a2ff1419a",
   "metadata": {},
   "outputs": [
    {
     "data": {
      "text/plain": [
       "age               False\n",
       "sex               False\n",
       "chestpaintype     False\n",
       "restingbp         False\n",
       "cholesterol       False\n",
       "fastingbs         False\n",
       "restingecg        False\n",
       "maxhr             False\n",
       "exerciseangina    False\n",
       "oldpeak           False\n",
       "st_slope          False\n",
       "heartdisease      False\n",
       "dtype: bool"
      ]
     },
     "execution_count": 7,
     "metadata": {},
     "output_type": "execute_result"
    }
   ],
   "source": [
    "orig_df.isnull().any()"
   ]
  },
  {
   "cell_type": "code",
   "execution_count": 8,
   "id": "f55ee0be-df9e-497f-9489-c25c62ee8ee2",
   "metadata": {},
   "outputs": [
    {
     "data": {
      "text/plain": [
       "Index(['age', 'sex', 'chestpaintype', 'restingbp', 'cholesterol', 'fastingbs',\n",
       "       'restingecg', 'maxhr', 'exerciseangina', 'oldpeak', 'st_slope',\n",
       "       'heartdisease'],\n",
       "      dtype='object')"
      ]
     },
     "execution_count": 8,
     "metadata": {},
     "output_type": "execute_result"
    }
   ],
   "source": [
    "categorical = ['sex', 'chestpaintype', 'fastingbs', 'restingecg', 'exerciseangina', 'st_slope']\n",
    "numerical = ['age', 'restingbp', 'cholesterol', 'maxhr']\n",
    "\n",
    "orig_df.columns"
   ]
  },
  {
   "cell_type": "code",
   "execution_count": 9,
   "id": "2b1aa561-e817-446c-9339-86f1e8fb9991",
   "metadata": {},
   "outputs": [
    {
     "data": {
      "text/plain": [
       "age\n",
       "54    51\n",
       "58    42\n",
       "55    41\n",
       "56    38\n",
       "57    38\n",
       "52    36\n",
       "51    35\n",
       "59    35\n",
       "62    35\n",
       "53    33\n",
       "60    32\n",
       "48    31\n",
       "61    31\n",
       "63    30\n",
       "50    25\n",
       "46    24\n",
       "41    24\n",
       "43    24\n",
       "64    22\n",
       "65    21\n",
       "49    21\n",
       "47    19\n",
       "44    19\n",
       "42    18\n",
       "45    18\n",
       "38    16\n",
       "67    15\n",
       "39    15\n",
       "66    13\n",
       "69    13\n",
       "40    13\n",
       "35    11\n",
       "37    11\n",
       "68    10\n",
       "34     7\n",
       "74     7\n",
       "70     7\n",
       "36     6\n",
       "71     5\n",
       "32     5\n",
       "72     4\n",
       "29     3\n",
       "75     3\n",
       "33     2\n",
       "77     2\n",
       "76     2\n",
       "31     2\n",
       "30     1\n",
       "28     1\n",
       "73     1\n",
       "Name: count, dtype: int64"
      ]
     },
     "metadata": {},
     "output_type": "display_data"
    },
    {
     "name": "stdout",
     "output_type": "stream",
     "text": [
      "-------------------------------\n"
     ]
    },
    {
     "data": {
      "text/plain": [
       "sex\n",
       "M    725\n",
       "F    193\n",
       "Name: count, dtype: int64"
      ]
     },
     "metadata": {},
     "output_type": "display_data"
    },
    {
     "name": "stdout",
     "output_type": "stream",
     "text": [
      "-------------------------------\n"
     ]
    },
    {
     "data": {
      "text/plain": [
       "chestpaintype\n",
       "ASY    496\n",
       "NAP    203\n",
       "ATA    173\n",
       "TA      46\n",
       "Name: count, dtype: int64"
      ]
     },
     "metadata": {},
     "output_type": "display_data"
    },
    {
     "name": "stdout",
     "output_type": "stream",
     "text": [
      "-------------------------------\n"
     ]
    },
    {
     "data": {
      "text/plain": [
       "restingbp\n",
       "120    132\n",
       "130    118\n",
       "140    107\n",
       "110     58\n",
       "150     55\n",
       "      ... \n",
       "185      1\n",
       "98       1\n",
       "92       1\n",
       "113      1\n",
       "164      1\n",
       "Name: count, Length: 67, dtype: int64"
      ]
     },
     "metadata": {},
     "output_type": "display_data"
    },
    {
     "name": "stdout",
     "output_type": "stream",
     "text": [
      "-------------------------------\n"
     ]
    },
    {
     "data": {
      "text/plain": [
       "cholesterol\n",
       "0      172\n",
       "254     11\n",
       "223     10\n",
       "220     10\n",
       "230      9\n",
       "      ... \n",
       "392      1\n",
       "316      1\n",
       "153      1\n",
       "466      1\n",
       "131      1\n",
       "Name: count, Length: 222, dtype: int64"
      ]
     },
     "metadata": {},
     "output_type": "display_data"
    },
    {
     "name": "stdout",
     "output_type": "stream",
     "text": [
      "-------------------------------\n"
     ]
    },
    {
     "data": {
      "text/plain": [
       "fastingbs\n",
       "0    704\n",
       "1    214\n",
       "Name: count, dtype: int64"
      ]
     },
     "metadata": {},
     "output_type": "display_data"
    },
    {
     "name": "stdout",
     "output_type": "stream",
     "text": [
      "-------------------------------\n"
     ]
    },
    {
     "data": {
      "text/plain": [
       "restingecg\n",
       "Normal    552\n",
       "LVH       188\n",
       "ST        178\n",
       "Name: count, dtype: int64"
      ]
     },
     "metadata": {},
     "output_type": "display_data"
    },
    {
     "name": "stdout",
     "output_type": "stream",
     "text": [
      "-------------------------------\n"
     ]
    },
    {
     "data": {
      "text/plain": [
       "maxhr\n",
       "150    43\n",
       "140    41\n",
       "120    36\n",
       "130    33\n",
       "160    25\n",
       "       ..\n",
       "63      1\n",
       "83      1\n",
       "60      1\n",
       "78      1\n",
       "202     1\n",
       "Name: count, Length: 119, dtype: int64"
      ]
     },
     "metadata": {},
     "output_type": "display_data"
    },
    {
     "name": "stdout",
     "output_type": "stream",
     "text": [
      "-------------------------------\n"
     ]
    },
    {
     "data": {
      "text/plain": [
       "exerciseangina\n",
       "N    547\n",
       "Y    371\n",
       "Name: count, dtype: int64"
      ]
     },
     "metadata": {},
     "output_type": "display_data"
    },
    {
     "name": "stdout",
     "output_type": "stream",
     "text": [
      "-------------------------------\n"
     ]
    },
    {
     "data": {
      "text/plain": [
       "oldpeak\n",
       " 0.0    368\n",
       " 1.0     86\n",
       " 2.0     76\n",
       " 1.5     53\n",
       " 3.0     28\n",
       " 1.2     26\n",
       " 0.2     22\n",
       " 0.5     19\n",
       " 1.4     18\n",
       " 1.8     17\n",
       " 2.5     16\n",
       " 0.8     16\n",
       " 1.6     16\n",
       " 0.1     14\n",
       " 0.6     14\n",
       " 0.4     11\n",
       " 0.3     11\n",
       " 4.0      8\n",
       " 0.7      7\n",
       " 2.8      7\n",
       " 1.9      7\n",
       " 1.3      7\n",
       " 2.6      7\n",
       " 1.1      7\n",
       " 1.7      6\n",
       " 2.2      5\n",
       " 0.9      4\n",
       " 2.4      4\n",
       " 3.6      4\n",
       " 3.4      3\n",
       " 4.2      2\n",
       " 3.5      2\n",
       "-0.5      2\n",
       " 2.3      2\n",
       " 3.2      2\n",
       " 2.1      2\n",
       "-1.0      2\n",
       "-0.1      2\n",
       " 5.6      1\n",
       " 2.9      1\n",
       " 6.2      1\n",
       " 3.8      1\n",
       "-1.5      1\n",
       " 3.1      1\n",
       "-2.0      1\n",
       " 3.7      1\n",
       "-0.8      1\n",
       "-0.7      1\n",
       "-1.1      1\n",
       "-2.6      1\n",
       "-0.9      1\n",
       " 5.0      1\n",
       " 4.4      1\n",
       "Name: count, dtype: int64"
      ]
     },
     "metadata": {},
     "output_type": "display_data"
    },
    {
     "name": "stdout",
     "output_type": "stream",
     "text": [
      "-------------------------------\n"
     ]
    },
    {
     "data": {
      "text/plain": [
       "st_slope\n",
       "Flat    460\n",
       "Up      395\n",
       "Down     63\n",
       "Name: count, dtype: int64"
      ]
     },
     "metadata": {},
     "output_type": "display_data"
    },
    {
     "name": "stdout",
     "output_type": "stream",
     "text": [
      "-------------------------------\n"
     ]
    },
    {
     "data": {
      "text/plain": [
       "heartdisease\n",
       "1    508\n",
       "0    410\n",
       "Name: count, dtype: int64"
      ]
     },
     "metadata": {},
     "output_type": "display_data"
    },
    {
     "name": "stdout",
     "output_type": "stream",
     "text": [
      "-------------------------------\n"
     ]
    }
   ],
   "source": [
    "for col in orig_df.columns:\n",
    "    display(orig_df[col].value_counts())\n",
    "    print(\"-------------------------------\")"
   ]
  },
  {
   "cell_type": "code",
   "execution_count": 10,
   "id": "882a13c2-b032-4976-a8b4-4585b47f7260",
   "metadata": {},
   "outputs": [
    {
     "data": {
      "text/plain": [
       "0"
      ]
     },
     "execution_count": 10,
     "metadata": {},
     "output_type": "execute_result"
    }
   ],
   "source": [
    "orig_df.duplicated().sum() "
   ]
  },
  {
   "cell_type": "code",
   "execution_count": 11,
   "id": "ee36c819-a3fc-4f57-876f-9ad6602755d0",
   "metadata": {
    "scrolled": true
   },
   "outputs": [
    {
     "data": {
      "text/html": [
       "<div>\n",
       "<style scoped>\n",
       "    .dataframe tbody tr th:only-of-type {\n",
       "        vertical-align: middle;\n",
       "    }\n",
       "\n",
       "    .dataframe tbody tr th {\n",
       "        vertical-align: top;\n",
       "    }\n",
       "\n",
       "    .dataframe thead th {\n",
       "        text-align: right;\n",
       "    }\n",
       "</style>\n",
       "<table border=\"1\" class=\"dataframe\">\n",
       "  <thead>\n",
       "    <tr style=\"text-align: right;\">\n",
       "      <th></th>\n",
       "      <th>age</th>\n",
       "      <th>restingbp</th>\n",
       "      <th>cholesterol</th>\n",
       "      <th>fastingbs</th>\n",
       "      <th>maxhr</th>\n",
       "      <th>oldpeak</th>\n",
       "      <th>heartdisease</th>\n",
       "    </tr>\n",
       "  </thead>\n",
       "  <tbody>\n",
       "    <tr>\n",
       "      <th>count</th>\n",
       "      <td>918.000000</td>\n",
       "      <td>918.000000</td>\n",
       "      <td>918.000000</td>\n",
       "      <td>918.000000</td>\n",
       "      <td>918.000000</td>\n",
       "      <td>918.000000</td>\n",
       "      <td>918.000000</td>\n",
       "    </tr>\n",
       "    <tr>\n",
       "      <th>mean</th>\n",
       "      <td>53.510893</td>\n",
       "      <td>132.396514</td>\n",
       "      <td>198.799564</td>\n",
       "      <td>0.233115</td>\n",
       "      <td>136.809368</td>\n",
       "      <td>0.887364</td>\n",
       "      <td>0.553377</td>\n",
       "    </tr>\n",
       "    <tr>\n",
       "      <th>std</th>\n",
       "      <td>9.432617</td>\n",
       "      <td>18.514154</td>\n",
       "      <td>109.384145</td>\n",
       "      <td>0.423046</td>\n",
       "      <td>25.460334</td>\n",
       "      <td>1.066570</td>\n",
       "      <td>0.497414</td>\n",
       "    </tr>\n",
       "    <tr>\n",
       "      <th>min</th>\n",
       "      <td>28.000000</td>\n",
       "      <td>0.000000</td>\n",
       "      <td>0.000000</td>\n",
       "      <td>0.000000</td>\n",
       "      <td>60.000000</td>\n",
       "      <td>-2.600000</td>\n",
       "      <td>0.000000</td>\n",
       "    </tr>\n",
       "    <tr>\n",
       "      <th>25%</th>\n",
       "      <td>47.000000</td>\n",
       "      <td>120.000000</td>\n",
       "      <td>173.250000</td>\n",
       "      <td>0.000000</td>\n",
       "      <td>120.000000</td>\n",
       "      <td>0.000000</td>\n",
       "      <td>0.000000</td>\n",
       "    </tr>\n",
       "    <tr>\n",
       "      <th>50%</th>\n",
       "      <td>54.000000</td>\n",
       "      <td>130.000000</td>\n",
       "      <td>223.000000</td>\n",
       "      <td>0.000000</td>\n",
       "      <td>138.000000</td>\n",
       "      <td>0.600000</td>\n",
       "      <td>1.000000</td>\n",
       "    </tr>\n",
       "    <tr>\n",
       "      <th>75%</th>\n",
       "      <td>60.000000</td>\n",
       "      <td>140.000000</td>\n",
       "      <td>267.000000</td>\n",
       "      <td>0.000000</td>\n",
       "      <td>156.000000</td>\n",
       "      <td>1.500000</td>\n",
       "      <td>1.000000</td>\n",
       "    </tr>\n",
       "    <tr>\n",
       "      <th>max</th>\n",
       "      <td>77.000000</td>\n",
       "      <td>200.000000</td>\n",
       "      <td>603.000000</td>\n",
       "      <td>1.000000</td>\n",
       "      <td>202.000000</td>\n",
       "      <td>6.200000</td>\n",
       "      <td>1.000000</td>\n",
       "    </tr>\n",
       "  </tbody>\n",
       "</table>\n",
       "</div>"
      ],
      "text/plain": [
       "              age   restingbp  cholesterol   fastingbs       maxhr  \\\n",
       "count  918.000000  918.000000   918.000000  918.000000  918.000000   \n",
       "mean    53.510893  132.396514   198.799564    0.233115  136.809368   \n",
       "std      9.432617   18.514154   109.384145    0.423046   25.460334   \n",
       "min     28.000000    0.000000     0.000000    0.000000   60.000000   \n",
       "25%     47.000000  120.000000   173.250000    0.000000  120.000000   \n",
       "50%     54.000000  130.000000   223.000000    0.000000  138.000000   \n",
       "75%     60.000000  140.000000   267.000000    0.000000  156.000000   \n",
       "max     77.000000  200.000000   603.000000    1.000000  202.000000   \n",
       "\n",
       "          oldpeak  heartdisease  \n",
       "count  918.000000    918.000000  \n",
       "mean     0.887364      0.553377  \n",
       "std      1.066570      0.497414  \n",
       "min     -2.600000      0.000000  \n",
       "25%      0.000000      0.000000  \n",
       "50%      0.600000      1.000000  \n",
       "75%      1.500000      1.000000  \n",
       "max      6.200000      1.000000  "
      ]
     },
     "execution_count": 11,
     "metadata": {},
     "output_type": "execute_result"
    }
   ],
   "source": [
    "orig_df.describe()"
   ]
  },
  {
   "cell_type": "code",
   "execution_count": 12,
   "id": "07f9974a-9e76-4847-ba89-4647bcb2bb01",
   "metadata": {},
   "outputs": [],
   "source": [
    "# cholesterol = 0 and restingbp = 0 are not realistic, so set the 0 values to NaN\n",
    "orig_df.cholesterol = np.where(orig_df['cholesterol'] == 0, np.nan, orig_df['cholesterol'])\n",
    "orig_df.restingbp = np.where(orig_df['restingbp'] == 0, np.nan, orig_df['restingbp'])"
   ]
  },
  {
   "cell_type": "code",
   "execution_count": 13,
   "id": "56b707eb-9e59-4f1d-a56f-f78bd22ad61a",
   "metadata": {},
   "outputs": [
    {
     "data": {
      "text/plain": [
       "age               False\n",
       "sex               False\n",
       "chestpaintype     False\n",
       "restingbp          True\n",
       "cholesterol        True\n",
       "fastingbs         False\n",
       "restingecg        False\n",
       "maxhr             False\n",
       "exerciseangina    False\n",
       "oldpeak           False\n",
       "st_slope          False\n",
       "heartdisease      False\n",
       "dtype: bool"
      ]
     },
     "execution_count": 13,
     "metadata": {},
     "output_type": "execute_result"
    }
   ],
   "source": [
    "orig_df.isnull().any()"
   ]
  },
  {
   "cell_type": "code",
   "execution_count": 14,
   "id": "476fe417-3d37-4d7c-8315-92d43f858386",
   "metadata": {},
   "outputs": [
    {
     "data": {
      "text/plain": [
       "<Axes: xlabel='age', ylabel='Count'>"
      ]
     },
     "execution_count": 14,
     "metadata": {},
     "output_type": "execute_result"
    },
    {
     "data": {
      "image/png": "[encoded data removed]",
      "text/plain": [
       "<Figure size 640x480 with 1 Axes>"
      ]
     },
     "metadata": {},
     "output_type": "display_data"
    }
   ],
   "source": [
    "sns.histplot(orig_df.age, bins=50)"
   ]
  },
  {
   "cell_type": "code",
   "execution_count": 15,
   "id": "1720ac3d-c7ea-405b-841a-5b6671f00afa",
   "metadata": {},
   "outputs": [
    {
     "data": {
      "text/plain": [
       "<Axes: xlabel='restingbp', ylabel='Count'>"
      ]
     },
     "execution_count": 15,
     "metadata": {},
     "output_type": "execute_result"
    },
    {
     "data": {
      "image/png": "[encoded data removed]",
      "text/plain": [
       "<Figure size 640x480 with 1 Axes>"
      ]
     },
     "metadata": {},
     "output_type": "display_data"
    }
   ],
   "source": [
    "sns.histplot(orig_df.restingbp, bins=50)"
   ]
  },
  {
   "cell_type": "code",
   "execution_count": 16,
   "id": "6ee688ca-beff-49e6-9a72-532ae940e37a",
   "metadata": {},
   "outputs": [
    {
     "data": {
      "text/plain": [
       "<Axes: xlabel='cholesterol', ylabel='Count'>"
      ]
     },
     "execution_count": 16,
     "metadata": {},
     "output_type": "execute_result"
    },
    {
     "data": {
      "image/png": "[encoded data removed]",
      "text/plain": [
       "<Figure size 640x480 with 1 Axes>"
      ]
     },
     "metadata": {},
     "output_type": "display_data"
    }
   ],
   "source": [
    "sns.histplot(orig_df.cholesterol, bins=50)"
   ]
  },
  {
   "cell_type": "code",
   "execution_count": 17,
   "id": "483ee9da-0550-45b1-b456-a0511e7295d1",
   "metadata": {
    "scrolled": true
   },
   "outputs": [
    {
     "data": {
      "text/plain": [
       "<Axes: xlabel='oldpeak', ylabel='Count'>"
      ]
     },
     "execution_count": 17,
     "metadata": {},
     "output_type": "execute_result"
    },
    {
     "data": {
      "image/png": "[encoded data removed]",
      "text/plain": [
       "<Figure size 640x480 with 1 Axes>"
      ]
     },
     "metadata": {},
     "output_type": "display_data"
    }
   ],
   "source": [
    "sns.histplot(orig_df.oldpeak, bins=50)"
   ]
  },
  {
   "cell_type": "code",
   "execution_count": 18,
   "id": "ceadffe6-791e-4ca9-8c8d-809adaa1e4aa",
   "metadata": {},
   "outputs": [
    {
     "data": {
      "text/plain": [
       "((918, 12), (746, 12))"
      ]
     },
     "execution_count": 18,
     "metadata": {},
     "output_type": "execute_result"
    }
   ],
   "source": [
    "mod_df = orig_df.dropna()\n",
    "orig_df.shape, mod_df.shape"
   ]
  },
  {
   "cell_type": "markdown",
   "id": "abab0b13-c4fc-42fc-a22b-89aa6425deb8",
   "metadata": {},
   "source": [
    "## Feature correlation"
   ]
  },
  {
   "cell_type": "code",
   "execution_count": 19,
   "id": "884630c1-6785-437d-b419-0f9f861d7b13",
   "metadata": {},
   "outputs": [
    {
     "data": {
      "text/plain": [
       "age            0.298617\n",
       "restingbp      0.173242\n",
       "cholesterol    0.103866\n",
       "maxhr         -0.377212\n",
       "dtype: float64"
      ]
     },
     "execution_count": 19,
     "metadata": {},
     "output_type": "execute_result"
    }
   ],
   "source": [
    "mod_df[numerical].corrwith(mod_df.heartdisease)"
   ]
  },
  {
   "cell_type": "code",
   "execution_count": 20,
   "id": "9c76f39f-c24c-40fa-81a6-180886acff37",
   "metadata": {},
   "outputs": [
    {
     "data": {
      "text/html": [
       "<div>\n",
       "<style scoped>\n",
       "    .dataframe tbody tr th:only-of-type {\n",
       "        vertical-align: middle;\n",
       "    }\n",
       "\n",
       "    .dataframe tbody tr th {\n",
       "        vertical-align: top;\n",
       "    }\n",
       "\n",
       "    .dataframe thead th {\n",
       "        text-align: right;\n",
       "    }\n",
       "</style>\n",
       "<table border=\"1\" class=\"dataframe\">\n",
       "  <thead>\n",
       "    <tr style=\"text-align: right;\">\n",
       "      <th></th>\n",
       "      <th>age</th>\n",
       "      <th>restingbp</th>\n",
       "      <th>cholesterol</th>\n",
       "      <th>maxhr</th>\n",
       "      <th>heartdisease</th>\n",
       "    </tr>\n",
       "  </thead>\n",
       "  <tbody>\n",
       "    <tr>\n",
       "      <th>age</th>\n",
       "      <td>1.000000</td>\n",
       "      <td>0.259865</td>\n",
       "      <td>0.058758</td>\n",
       "      <td>-0.382112</td>\n",
       "      <td>0.298617</td>\n",
       "    </tr>\n",
       "    <tr>\n",
       "      <th>restingbp</th>\n",
       "      <td>0.259865</td>\n",
       "      <td>1.000000</td>\n",
       "      <td>0.095939</td>\n",
       "      <td>-0.125774</td>\n",
       "      <td>0.173242</td>\n",
       "    </tr>\n",
       "    <tr>\n",
       "      <th>cholesterol</th>\n",
       "      <td>0.058758</td>\n",
       "      <td>0.095939</td>\n",
       "      <td>1.000000</td>\n",
       "      <td>-0.019856</td>\n",
       "      <td>0.103866</td>\n",
       "    </tr>\n",
       "    <tr>\n",
       "      <th>maxhr</th>\n",
       "      <td>-0.382112</td>\n",
       "      <td>-0.125774</td>\n",
       "      <td>-0.019856</td>\n",
       "      <td>1.000000</td>\n",
       "      <td>-0.377212</td>\n",
       "    </tr>\n",
       "    <tr>\n",
       "      <th>heartdisease</th>\n",
       "      <td>0.298617</td>\n",
       "      <td>0.173242</td>\n",
       "      <td>0.103866</td>\n",
       "      <td>-0.377212</td>\n",
       "      <td>1.000000</td>\n",
       "    </tr>\n",
       "  </tbody>\n",
       "</table>\n",
       "</div>"
      ],
      "text/plain": [
       "                   age  restingbp  cholesterol     maxhr  heartdisease\n",
       "age           1.000000   0.259865     0.058758 -0.382112      0.298617\n",
       "restingbp     0.259865   1.000000     0.095939 -0.125774      0.173242\n",
       "cholesterol   0.058758   0.095939     1.000000 -0.019856      0.103866\n",
       "maxhr        -0.382112  -0.125774    -0.019856  1.000000     -0.377212\n",
       "heartdisease  0.298617   0.173242     0.103866 -0.377212      1.000000"
      ]
     },
     "execution_count": 20,
     "metadata": {},
     "output_type": "execute_result"
    }
   ],
   "source": [
    "mod_df[numerical + ['heartdisease']].corr()"
   ]
  },
  {
   "cell_type": "code",
   "execution_count": 21,
   "id": "aeb30b2d-c63a-46f8-8f98-c94ce6ace330",
   "metadata": {},
   "outputs": [
    {
     "data": {
      "text/html": [
       "<div>\n",
       "<style scoped>\n",
       "    .dataframe tbody tr th:only-of-type {\n",
       "        vertical-align: middle;\n",
       "    }\n",
       "\n",
       "    .dataframe tbody tr th {\n",
       "        vertical-align: top;\n",
       "    }\n",
       "\n",
       "    .dataframe thead th {\n",
       "        text-align: right;\n",
       "    }\n",
       "</style>\n",
       "<table border=\"1\" class=\"dataframe\">\n",
       "  <thead>\n",
       "    <tr style=\"text-align: right;\">\n",
       "      <th></th>\n",
       "      <th>sex</th>\n",
       "      <th>chestpaintype</th>\n",
       "      <th>fastingbs</th>\n",
       "      <th>restingecg</th>\n",
       "      <th>exerciseangina</th>\n",
       "      <th>st_slope</th>\n",
       "      <th>heartdisease</th>\n",
       "    </tr>\n",
       "  </thead>\n",
       "  <tbody>\n",
       "    <tr>\n",
       "      <th>sex</th>\n",
       "      <td>1.000000</td>\n",
       "      <td>-0.120709</td>\n",
       "      <td>0.096075</td>\n",
       "      <td>0.042296</td>\n",
       "      <td>0.192579</td>\n",
       "      <td>-0.142808</td>\n",
       "      <td>0.292779</td>\n",
       "    </tr>\n",
       "    <tr>\n",
       "      <th>chestpaintype</th>\n",
       "      <td>-0.120709</td>\n",
       "      <td>1.000000</td>\n",
       "      <td>-0.000226</td>\n",
       "      <td>-0.046851</td>\n",
       "      <td>-0.394822</td>\n",
       "      <td>0.238469</td>\n",
       "      <td>-0.395776</td>\n",
       "    </tr>\n",
       "    <tr>\n",
       "      <th>fastingbs</th>\n",
       "      <td>0.096075</td>\n",
       "      <td>-0.000226</td>\n",
       "      <td>1.000000</td>\n",
       "      <td>0.031518</td>\n",
       "      <td>0.109995</td>\n",
       "      <td>-0.157780</td>\n",
       "      <td>0.160594</td>\n",
       "    </tr>\n",
       "    <tr>\n",
       "      <th>restingecg</th>\n",
       "      <td>0.042296</td>\n",
       "      <td>-0.046851</td>\n",
       "      <td>0.031518</td>\n",
       "      <td>1.000000</td>\n",
       "      <td>0.085602</td>\n",
       "      <td>0.017472</td>\n",
       "      <td>0.009935</td>\n",
       "    </tr>\n",
       "    <tr>\n",
       "      <th>exerciseangina</th>\n",
       "      <td>0.192579</td>\n",
       "      <td>-0.394822</td>\n",
       "      <td>0.109995</td>\n",
       "      <td>0.085602</td>\n",
       "      <td>1.000000</td>\n",
       "      <td>-0.473543</td>\n",
       "      <td>0.551834</td>\n",
       "    </tr>\n",
       "    <tr>\n",
       "      <th>st_slope</th>\n",
       "      <td>-0.142808</td>\n",
       "      <td>0.238469</td>\n",
       "      <td>-0.157780</td>\n",
       "      <td>0.017472</td>\n",
       "      <td>-0.473543</td>\n",
       "      <td>1.000000</td>\n",
       "      <td>-0.597334</td>\n",
       "    </tr>\n",
       "    <tr>\n",
       "      <th>heartdisease</th>\n",
       "      <td>0.292779</td>\n",
       "      <td>-0.395776</td>\n",
       "      <td>0.160594</td>\n",
       "      <td>0.009935</td>\n",
       "      <td>0.551834</td>\n",
       "      <td>-0.597334</td>\n",
       "      <td>1.000000</td>\n",
       "    </tr>\n",
       "  </tbody>\n",
       "</table>\n",
       "</div>"
      ],
      "text/plain": [
       "                     sex  chestpaintype  fastingbs  restingecg  \\\n",
       "sex             1.000000      -0.120709   0.096075    0.042296   \n",
       "chestpaintype  -0.120709       1.000000  -0.000226   -0.046851   \n",
       "fastingbs       0.096075      -0.000226   1.000000    0.031518   \n",
       "restingecg      0.042296      -0.046851   0.031518    1.000000   \n",
       "exerciseangina  0.192579      -0.394822   0.109995    0.085602   \n",
       "st_slope       -0.142808       0.238469  -0.157780    0.017472   \n",
       "heartdisease    0.292779      -0.395776   0.160594    0.009935   \n",
       "\n",
       "                exerciseangina  st_slope  heartdisease  \n",
       "sex                   0.192579 -0.142808      0.292779  \n",
       "chestpaintype        -0.394822  0.238469     -0.395776  \n",
       "fastingbs             0.109995 -0.157780      0.160594  \n",
       "restingecg            0.085602  0.017472      0.009935  \n",
       "exerciseangina        1.000000 -0.473543      0.551834  \n",
       "st_slope             -0.473543  1.000000     -0.597334  \n",
       "heartdisease          0.551834 -0.597334      1.000000  "
      ]
     },
     "execution_count": 21,
     "metadata": {},
     "output_type": "execute_result"
    }
   ],
   "source": [
    "cat_df = mod_df.copy()\n",
    "\n",
    "for col in categorical:\n",
    "    cat_df[col] = cat_df[col].astype('category').cat.codes\n",
    "\n",
    "cat_df[categorical + ['heartdisease']].corr()"
   ]
  },
  {
   "cell_type": "code",
   "execution_count": 22,
   "id": "8390f2f6-c800-434d-8912-719577afe8d7",
   "metadata": {},
   "outputs": [],
   "source": [
    "# due to how some columns might impact the heart disease prediction, we'll drop the columsn that\n",
    "# are either very strongly positively/negatively correlated (abs(correlation) > 0.5)\n",
    "categorical = ['sex', 'chestpaintype', 'fastingbs']\n",
    "numerical = ['age', 'restingbp', 'cholesterol', 'maxhr']"
   ]
  },
  {
   "cell_type": "markdown",
   "id": "4c3651dc-5991-495b-8866-a149ecc94d10",
   "metadata": {},
   "source": [
    "# Training (to move to train.py)"
   ]
  },
  {
   "cell_type": "code",
   "execution_count": 23,
   "id": "fa23f65f-698b-4b39-8c58-cf3eaf8b2580",
   "metadata": {},
   "outputs": [],
   "source": [
    "from sklearn.ensemble import RandomForestClassifier\n",
    "from sklearn.feature_extraction import DictVectorizer\n",
    "from sklearn.linear_model import LogisticRegression\n",
    "from sklearn.metrics import accuracy_score, auc, mutual_info_score, roc_auc_score\n",
    "from sklearn.model_selection import KFold, train_test_split\n",
    "from sklearn.tree import DecisionTreeClassifier, export_text"
   ]
  },
  {
   "cell_type": "code",
   "execution_count": 24,
   "id": "30542b14-4251-49a2-a469-5b677536ae62",
   "metadata": {},
   "outputs": [],
   "source": [
    "seed = 1"
   ]
  },
  {
   "cell_type": "code",
   "execution_count": 25,
   "id": "a2b40bf7-af75-4535-82ad-b0d90dd43ef2",
   "metadata": {},
   "outputs": [],
   "source": [
    "df_full_train, df_test = train_test_split(mod_df, test_size=0.2, random_state=seed)\n",
    "df_train, df_val = train_test_split(df_full_train, test_size=0.25, random_state=seed)"
   ]
  },
  {
   "cell_type": "code",
   "execution_count": 26,
   "id": "25d36efb-2ddc-471c-854d-65a89f590669",
   "metadata": {},
   "outputs": [
    {
     "data": {
      "text/plain": [
       "(447, 149, 150)"
      ]
     },
     "execution_count": 26,
     "metadata": {},
     "output_type": "execute_result"
    }
   ],
   "source": [
    "len(df_train), len(df_val), len(df_test)"
   ]
  },
  {
   "cell_type": "code",
   "execution_count": 27,
   "id": "b51f92d5-14e5-47c9-ae77-950cd7a1f88a",
   "metadata": {},
   "outputs": [],
   "source": [
    "df_train = df_train.reset_index(drop=True)\n",
    "df_val = df_val.reset_index(drop=True)\n",
    "df_test = df_test.reset_index(drop=True)"
   ]
  },
  {
   "cell_type": "code",
   "execution_count": 28,
   "id": "1c52123c-0b3c-436b-af2d-40ea2bd3c75e",
   "metadata": {},
   "outputs": [],
   "source": [
    "y_train = df_train.heartdisease.values\n",
    "y_val = df_val.heartdisease.values\n",
    "y_test = df_test.heartdisease.values\n",
    "\n",
    "del df_train['heartdisease']\n",
    "del df_val['heartdisease']\n",
    "del df_test['heartdisease']"
   ]
  },
  {
   "cell_type": "code",
   "execution_count": 29,
   "id": "92357a8e-2caa-4c41-9cca-de53075b6b92",
   "metadata": {},
   "outputs": [],
   "source": [
    "def get_xtrain():\n",
    "    train_dicts = df_train[categorical + numerical].to_dict(orient='records')\n",
    "\n",
    "    dv = DictVectorizer(sparse=False)\n",
    "    X_train = dv.fit_transform(train_dicts)\n",
    "\n",
    "    return X_train, dv\n",
    "\n",
    "def get_xval(df, dv):\n",
    "    val_dicts = df[categorical + numerical].to_dict(orient='records')\n",
    "    X_val = dv.transform(val_dicts)\n",
    "\n",
    "    return X_val\n",
    "\n",
    "def get_x_nontrain(df, dv):\n",
    "    df_dicts = df[categorical + numerical].to_dict(orient='records')\n",
    "\n",
    "    X = dv.transform(df_dicts)\n",
    "\n",
    "    return X"
   ]
  },
  {
   "cell_type": "markdown",
   "id": "7711ebcc-96fa-4b90-8423-618d49c4f8b4",
   "metadata": {},
   "source": [
    "## Train logistic regression model"
   ]
  },
  {
   "cell_type": "code",
   "execution_count": 30,
   "id": "39378f7c-e533-43ac-95dc-7a2b54f068f5",
   "metadata": {},
   "outputs": [],
   "source": [
    "def train_logistic_regression(df_train, y_train, C=1.0):\n",
    "    dicts = df_train[categorical + numerical].to_dict(orient='records')\n",
    "\n",
    "    dv = DictVectorizer(sparse=False)\n",
    "    X_train = dv.fit_transform(dicts)\n",
    "\n",
    "    # consider scaling - got an error about needing to scale\n",
    "    model = LogisticRegression(C=C, max_iter=2000, random_state=seed)\n",
    "    model.fit(X_train, y_train)\n",
    "    \n",
    "    return dv, model"
   ]
  },
  {
   "cell_type": "code",
   "execution_count": 31,
   "id": "4345d4a0-aa5e-4cc5-85d0-c3fbac4eda4d",
   "metadata": {},
   "outputs": [],
   "source": [
    "def predict_logistic_regression(df, dv, model):\n",
    "    dicts = df[categorical + numerical].to_dict(orient='records')\n",
    "\n",
    "    X = dv.transform(dicts)\n",
    "    y_pred = model.predict_proba(X)[:, 1]\n",
    "\n",
    "    return y_pred"
   ]
  },
  {
   "cell_type": "code",
   "execution_count": 32,
   "id": "35c868eb-471a-4ae9-b41a-2f85fa52f07b",
   "metadata": {},
   "outputs": [],
   "source": [
    "dv, model = train_logistic_regression(df_train, y_train)\n",
    "y_pred = predict_logistic_regression(df_val, dv, model)"
   ]
  },
  {
   "cell_type": "markdown",
   "id": "8e57f45a-a8fa-4b6d-ab1c-c115c5fdfb89",
   "metadata": {},
   "source": [
    "### Model evaluation"
   ]
  },
  {
   "cell_type": "code",
   "execution_count": 33,
   "id": "b1d4e603-a5ba-4c17-b629-bd8852fc2115",
   "metadata": {
    "scrolled": true
   },
   "outputs": [
    {
     "name": "stdout",
     "output_type": "stream",
     "text": [
      "0.00 0.463\n",
      "0.05 0.591\n",
      "0.10 0.658\n",
      "0.15 0.698\n",
      "0.20 0.745\n",
      "0.25 0.772\n",
      "0.30 0.799\n",
      "0.35 0.779\n",
      "0.40 0.785\n",
      "0.45 0.799\n",
      "0.50 0.765\n",
      "0.55 0.752\n",
      "0.60 0.738\n",
      "0.65 0.732\n",
      "0.70 0.752\n",
      "0.75 0.725\n",
      "0.80 0.685\n",
      "0.85 0.624\n",
      "0.90 0.597\n",
      "0.95 0.544\n",
      "1.00 0.537\n"
     ]
    }
   ],
   "source": [
    "# first try with accuracy score\n",
    "thresholds = np.linspace(0, 1, 21)\n",
    "\n",
    "acc_scores = []\n",
    "\n",
    "for t in thresholds:\n",
    "    score = accuracy_score(y_val, y_pred >= t)\n",
    "    print('%.2f %.3f' % (t, score))\n",
    "    acc_scores.append(score)"
   ]
  },
  {
   "cell_type": "code",
   "execution_count": 34,
   "id": "883b5bf7-c437-4ec0-af4b-23b48231953a",
   "metadata": {},
   "outputs": [
    {
     "data": {
      "text/plain": [
       "[<matplotlib.lines.Line2D at 0x12b803910>]"
      ]
     },
     "execution_count": 34,
     "metadata": {},
     "output_type": "execute_result"
    },
    {
     "data": {
      "image/png": "[encoded data removed]",
      "text/plain": [
       "<Figure size 640x480 with 1 Axes>"
      ]
     },
     "metadata": {},
     "output_type": "display_data"
    }
   ],
   "source": [
    "plt.plot(thresholds, acc_scores)\n",
    "\n",
    "# optimal threshold is 0.40"
   ]
  },
  {
   "cell_type": "code",
   "execution_count": 35,
   "id": "012abadf-071f-4151-ac26-176350e298c0",
   "metadata": {},
   "outputs": [
    {
     "data": {
      "text/plain": [
       "0.8496376811594203"
      ]
     },
     "execution_count": 35,
     "metadata": {},
     "output_type": "execute_result"
    }
   ],
   "source": [
    "roc_auc_score(y_val, y_pred)"
   ]
  },
  {
   "cell_type": "code",
   "execution_count": 36,
   "id": "92dfa5f1-50ad-489d-8eb6-08a5fd3bf3a7",
   "metadata": {},
   "outputs": [
    {
     "name": "stderr",
     "output_type": "stream",
     "text": [
      "/Users/carise/.local/share/virtualenvs/ml-zoomcamp-midterm-4hkEySmr/lib/python3.10/site-packages/tqdm/auto.py:21: TqdmWarning: IProgress not found. Please update jupyter and ipywidgets. See https://ipywidgets.readthedocs.io/en/stable/user_install.html\n",
      "  from .autonotebook import tqdm as notebook_tqdm\n"
     ]
    }
   ],
   "source": [
    "from tqdm.auto import tqdm"
   ]
  },
  {
   "cell_type": "code",
   "execution_count": 37,
   "id": "03aa42bd-82c3-44e0-a390-c464e11527d4",
   "metadata": {},
   "outputs": [
    {
     "name": "stderr",
     "output_type": "stream",
     "text": [
      " 14%|████████████▏                                                                        | 1/7 [00:00<00:01,  5.64it/s]"
     ]
    },
    {
     "name": "stdout",
     "output_type": "stream",
     "text": [
      "C=0.001 0.756 +- 0.051\n"
     ]
    },
    {
     "name": "stderr",
     "output_type": "stream",
     "text": [
      " 29%|████████████████████████▎                                                            | 2/7 [00:00<00:00,  5.16it/s]"
     ]
    },
    {
     "name": "stdout",
     "output_type": "stream",
     "text": [
      "C=0.01 0.809 +- 0.043\n"
     ]
    },
    {
     "name": "stderr",
     "output_type": "stream",
     "text": [
      " 43%|████████████████████████████████████▍                                                | 3/7 [00:00<00:01,  3.50it/s]"
     ]
    },
    {
     "name": "stdout",
     "output_type": "stream",
     "text": [
      "C=0.1 0.858 +- 0.030\n"
     ]
    },
    {
     "name": "stderr",
     "output_type": "stream",
     "text": [
      " 57%|████████████████████████████████████████████████▌                                    | 4/7 [00:01<00:01,  2.63it/s]"
     ]
    },
    {
     "name": "stdout",
     "output_type": "stream",
     "text": [
      "C=0.5 0.861 +- 0.030\n"
     ]
    },
    {
     "name": "stderr",
     "output_type": "stream",
     "text": [
      " 71%|████████████████████████████████████████████████████████████▋                        | 5/7 [00:01<00:00,  2.17it/s]"
     ]
    },
    {
     "name": "stdout",
     "output_type": "stream",
     "text": [
      "C=1 0.861 +- 0.030\n"
     ]
    },
    {
     "name": "stderr",
     "output_type": "stream",
     "text": [
      " 86%|████████████████████████████████████████████████████████████████████████▊            | 6/7 [00:02<00:00,  2.18it/s]"
     ]
    },
    {
     "name": "stdout",
     "output_type": "stream",
     "text": [
      "C=5 0.860 +- 0.031\n"
     ]
    },
    {
     "name": "stderr",
     "output_type": "stream",
     "text": [
      "100%|█████████████████████████████████████████████████████████████████████████████████████| 7/7 [00:02<00:00,  2.54it/s]"
     ]
    },
    {
     "name": "stdout",
     "output_type": "stream",
     "text": [
      "C=10 0.860 +- 0.030\n"
     ]
    },
    {
     "name": "stderr",
     "output_type": "stream",
     "text": [
      "\n"
     ]
    }
   ],
   "source": [
    "# cross validation\n",
    "C_multi = [0.001, 0.01, 0.1, 0.5, 1, 5, 10]\n",
    "n_splits = 5\n",
    "\n",
    "for C in tqdm(C_multi):\n",
    "    kfold = KFold(n_splits=n_splits, shuffle=True, random_state=seed)\n",
    "    scores = []\n",
    "    \n",
    "    for train_idx, val_idx in kfold.split(df_full_train):\n",
    "        df_train = df_full_train.iloc[train_idx]\n",
    "        df_val = df_full_train.iloc[val_idx]\n",
    "    \n",
    "        y_train = df_train.heartdisease.values\n",
    "        y_val = df_val.heartdisease.values\n",
    "    \n",
    "        dv, model = train_logistic_regression(df_train, y_train, C=C)\n",
    "        y_pred = predict_logistic_regression(df_val, dv, model)\n",
    "    \n",
    "        auc = roc_auc_score(y_val, y_pred)\n",
    "        scores.append(auc)\n",
    "\n",
    "    print('C=%s %.3f +- %.3f' % (C, np.mean(scores), np.std(scores)))"
   ]
  },
  {
   "cell_type": "code",
   "execution_count": 38,
   "id": "69ba430b-a622-44d7-8299-a0fac11061e9",
   "metadata": {},
   "outputs": [
    {
     "data": {
      "text/plain": [
       "[0.8709677419354839,\n",
       " 0.8688046647230321,\n",
       " 0.8036723163841808,\n",
       " 0.8956546598056032,\n",
       " 0.8617863199547767]"
      ]
     },
     "execution_count": 38,
     "metadata": {},
     "output_type": "execute_result"
    }
   ],
   "source": [
    "scores"
   ]
  },
  {
   "cell_type": "code",
   "execution_count": 39,
   "id": "1e193f26-59e8-4da5-be51-ee2ef1e9c2f8",
   "metadata": {},
   "outputs": [
    {
     "data": {
      "text/html": [
       "<style>#sk-container-id-1 {color: black;}#sk-container-id-1 pre{padding: 0;}#sk-container-id-1 div.sk-toggleable {background-color: white;}#sk-container-id-1 label.sk-toggleable__label {cursor: pointer;display: block;width: 100%;margin-bottom: 0;padding: 0.3em;box-sizing: border-box;text-align: center;}#sk-container-id-1 label.sk-toggleable__label-arrow:before {content: \"▸\";float: left;margin-right: 0.25em;color: #696969;}#sk-container-id-1 label.sk-toggleable__label-arrow:hover:before {color: black;}#sk-container-id-1 div.sk-estimator:hover label.sk-toggleable__label-arrow:before {color: black;}#sk-container-id-1 div.sk-toggleable__content {max-height: 0;max-width: 0;overflow: hidden;text-align: left;background-color: #f0f8ff;}#sk-container-id-1 div.sk-toggleable__content pre {margin: 0.2em;color: black;border-radius: 0.25em;background-color: #f0f8ff;}#sk-container-id-1 input.sk-toggleable__control:checked~div.sk-toggleable__content {max-height: 200px;max-width: 100%;overflow: auto;}#sk-container-id-1 input.sk-toggleable__control:checked~label.sk-toggleable__label-arrow:before {content: \"▾\";}#sk-container-id-1 div.sk-estimator input.sk-toggleable__control:checked~label.sk-toggleable__label {background-color: #d4ebff;}#sk-container-id-1 div.sk-label input.sk-toggleable__control:checked~label.sk-toggleable__label {background-color: #d4ebff;}#sk-container-id-1 input.sk-hidden--visually {border: 0;clip: rect(1px 1px 1px 1px);clip: rect(1px, 1px, 1px, 1px);height: 1px;margin: -1px;overflow: hidden;padding: 0;position: absolute;width: 1px;}#sk-container-id-1 div.sk-estimator {font-family: monospace;background-color: #f0f8ff;border: 1px dotted black;border-radius: 0.25em;box-sizing: border-box;margin-bottom: 0.5em;}#sk-container-id-1 div.sk-estimator:hover {background-color: #d4ebff;}#sk-container-id-1 div.sk-parallel-item::after {content: \"\";width: 100%;border-bottom: 1px solid gray;flex-grow: 1;}#sk-container-id-1 div.sk-label:hover label.sk-toggleable__label {background-color: #d4ebff;}#sk-container-id-1 div.sk-serial::before {content: \"\";position: absolute;border-left: 1px solid gray;box-sizing: border-box;top: 0;bottom: 0;left: 50%;z-index: 0;}#sk-container-id-1 div.sk-serial {display: flex;flex-direction: column;align-items: center;background-color: white;padding-right: 0.2em;padding-left: 0.2em;position: relative;}#sk-container-id-1 div.sk-item {position: relative;z-index: 1;}#sk-container-id-1 div.sk-parallel {display: flex;align-items: stretch;justify-content: center;background-color: white;position: relative;}#sk-container-id-1 div.sk-item::before, #sk-container-id-1 div.sk-parallel-item::before {content: \"\";position: absolute;border-left: 1px solid gray;box-sizing: border-box;top: 0;bottom: 0;left: 50%;z-index: -1;}#sk-container-id-1 div.sk-parallel-item {display: flex;flex-direction: column;z-index: 1;position: relative;background-color: white;}#sk-container-id-1 div.sk-parallel-item:first-child::after {align-self: flex-end;width: 50%;}#sk-container-id-1 div.sk-parallel-item:last-child::after {align-self: flex-start;width: 50%;}#sk-container-id-1 div.sk-parallel-item:only-child::after {width: 0;}#sk-container-id-1 div.sk-dashed-wrapped {border: 1px dashed gray;margin: 0 0.4em 0.5em 0.4em;box-sizing: border-box;padding-bottom: 0.4em;background-color: white;}#sk-container-id-1 div.sk-label label {font-family: monospace;font-weight: bold;display: inline-block;line-height: 1.2em;}#sk-container-id-1 div.sk-label-container {text-align: center;}#sk-container-id-1 div.sk-container {/* jupyter's `normalize.less` sets `[hidden] { display: none; }` but bootstrap.min.css set `[hidden] { display: none !important; }` so we also need the `!important` here to be able to override the default hidden behavior on the sphinx rendered scikit-learn.org. See: https://github.com/scikit-learn/scikit-learn/issues/21755 */display: inline-block !important;position: relative;}#sk-container-id-1 div.sk-text-repr-fallback {display: none;}</style><div id=\"sk-container-id-1\" class=\"sk-top-container\"><div class=\"sk-text-repr-fallback\"><pre>LogisticRegression(C=0.5, max_iter=2000, random_state=1)</pre><b>In a Jupyter environment, please rerun this cell to show the HTML representation or trust the notebook. <br />On GitHub, the HTML representation is unable to render, please try loading this page with nbviewer.org.</b></div><div class=\"sk-container\" hidden><div class=\"sk-item\"><div class=\"sk-estimator sk-toggleable\"><input class=\"sk-toggleable__control sk-hidden--visually\" id=\"sk-estimator-id-1\" type=\"checkbox\" checked><label for=\"sk-estimator-id-1\" class=\"sk-toggleable__label sk-toggleable__label-arrow\">LogisticRegression</label><div class=\"sk-toggleable__content\"><pre>LogisticRegression(C=0.5, max_iter=2000, random_state=1)</pre></div></div></div></div></div>"
      ],
      "text/plain": [
       "LogisticRegression(C=0.5, max_iter=2000, random_state=1)"
      ]
     },
     "execution_count": 39,
     "metadata": {},
     "output_type": "execute_result"
    }
   ],
   "source": [
    "# optimal C is 0.5, let's see how the model performs on test data\n",
    "\n",
    "dv, model_log_reg = train_logistic_regression(df_full_train, df_full_train.heartdisease.values, C=0.5)\n",
    "y_pred = predict_logistic_regression(df_test, dv, model_log_reg)\n",
    "model_log_reg"
   ]
  },
  {
   "cell_type": "code",
   "execution_count": 40,
   "id": "1c6f0670-effb-4ccb-88e8-36f33c8b2c0d",
   "metadata": {},
   "outputs": [
    {
     "data": {
      "text/plain": [
       "0.8368693171688357"
      ]
     },
     "execution_count": 40,
     "metadata": {},
     "output_type": "execute_result"
    }
   ],
   "source": [
    "auc = roc_auc_score(y_test, y_pred)\n",
    "auc"
   ]
  },
  {
   "cell_type": "markdown",
   "id": "370e3578-33f1-43f9-8ad6-7a8c1e49c806",
   "metadata": {},
   "source": [
    "## Train decision tree model"
   ]
  },
  {
   "cell_type": "code",
   "execution_count": 41,
   "id": "6e09d1e6-0ff1-4387-add8-e7ddcd48e992",
   "metadata": {},
   "outputs": [],
   "source": [
    "def train_decision_tree_classifier(df_train, y_train, max_depth=None, min_samples_leaf=1):\n",
    "    train_dicts = df_train[categorical + numerical].to_dict(orient='records')\n",
    "\n",
    "    dv = DictVectorizer(sparse=False)\n",
    "    X_train = dv.fit_transform(train_dicts)\n",
    "    \n",
    "    model = DecisionTreeClassifier(random_state=seed, max_depth=max_depth, min_samples_leaf=min_samples_leaf)\n",
    "    model.fit(X_train, y_train)\n",
    "\n",
    "    return dv, model"
   ]
  },
  {
   "cell_type": "code",
   "execution_count": 42,
   "id": "b75b6fe0-0ede-42d9-a563-5bcd50d75aea",
   "metadata": {},
   "outputs": [],
   "source": [
    "def predict_decision_tree_classifier(df, dv, model):\n",
    "    val_dicts = df[categorical + numerical].to_dict(orient='records')\n",
    "    X_val = dv.transform(val_dicts)\n",
    "\n",
    "    y_pred = model.predict_proba(X_val)[:, 1]\n",
    "\n",
    "    return y_pred"
   ]
  },
  {
   "cell_type": "code",
   "execution_count": 43,
   "id": "002bcf04-cb86-4340-8652-4b56b1c9341a",
   "metadata": {},
   "outputs": [],
   "source": [
    "dv, model = train_decision_tree_classifier(df_train, y_train)\n",
    "y_pred = predict_decision_tree_classifier(df_val, dv, model)"
   ]
  },
  {
   "cell_type": "code",
   "execution_count": 44,
   "id": "c8cb1abb-641f-4dcb-bab6-2accb26b9889",
   "metadata": {},
   "outputs": [
    {
     "data": {
      "text/plain": [
       "0.6390616167326173"
      ]
     },
     "execution_count": 44,
     "metadata": {},
     "output_type": "execute_result"
    }
   ],
   "source": [
    "roc_auc_score(y_val, y_pred)"
   ]
  },
  {
   "cell_type": "code",
   "execution_count": 45,
   "id": "d2feb335-78a9-4184-8870-4acbf130aa70",
   "metadata": {},
   "outputs": [
    {
     "name": "stdout",
     "output_type": "stream",
     "text": [
      "depth=   1 -> auc=0.723\n",
      "depth=   2 -> auc=0.784\n",
      "depth=   3 -> auc=0.811\n",
      "depth=   4 -> auc=0.729\n",
      "depth=   5 -> auc=0.718\n",
      "depth=   6 -> auc=0.674\n",
      "depth=  10 -> auc=0.636\n",
      "depth=  15 -> auc=0.648\n",
      "depth=  20 -> auc=0.639\n",
      "depth=None -> auc=0.639\n"
     ]
    }
   ],
   "source": [
    "# select max_depth\n",
    "depths = [1, 2, 3, 4, 5, 6, 10, 15, 20, None]\n",
    "\n",
    "for depth in depths:\n",
    "    dv, model = train_decision_tree_classifier(df_train, y_train, max_depth=depth)\n",
    "    \n",
    "    y_pred = predict_decision_tree_classifier(df_val, dv, model)\n",
    "    auc = roc_auc_score(y_val, y_pred)\n",
    "    \n",
    "    print('depth=%4s -> auc=%.3f' % (depth, auc))\n",
    "\n",
    "# seems like optimal max_depth is 3"
   ]
  },
  {
   "cell_type": "code",
   "execution_count": 46,
   "id": "c4325670-32b1-46da-9e11-48598a68b021",
   "metadata": {},
   "outputs": [],
   "source": [
    "# find optimal min_samples_leaf\n",
    "scores = []\n",
    "\n",
    "for depth in [1, 2, 3, 4, 5]:\n",
    "    for s in [1, 5, 10, 15, 20, 500, 100, 200]:\n",
    "        dv, model = train_decision_tree_classifier(df_train, y_train, max_depth=depth, min_samples_leaf=s)\n",
    "    \n",
    "        y_pred = predict_decision_tree_classifier(df_val, dv, model)\n",
    "        auc = roc_auc_score(y_val, y_pred)\n",
    "        \n",
    "        scores.append((depth, s, auc))"
   ]
  },
  {
   "cell_type": "code",
   "execution_count": 47,
   "id": "0d6f9c09-0023-4f22-868f-5eec6433dbb1",
   "metadata": {},
   "outputs": [
    {
     "data": {
      "text/html": [
       "<div>\n",
       "<style scoped>\n",
       "    .dataframe tbody tr th:only-of-type {\n",
       "        vertical-align: middle;\n",
       "    }\n",
       "\n",
       "    .dataframe tbody tr th {\n",
       "        vertical-align: top;\n",
       "    }\n",
       "\n",
       "    .dataframe thead tr th {\n",
       "        text-align: left;\n",
       "    }\n",
       "\n",
       "    .dataframe thead tr:last-of-type th {\n",
       "        text-align: right;\n",
       "    }\n",
       "</style>\n",
       "<table border=\"1\" class=\"dataframe\">\n",
       "  <thead>\n",
       "    <tr>\n",
       "      <th></th>\n",
       "      <th colspan=\"5\" halign=\"left\">auc</th>\n",
       "    </tr>\n",
       "    <tr>\n",
       "      <th>max_depth</th>\n",
       "      <th>1</th>\n",
       "      <th>2</th>\n",
       "      <th>3</th>\n",
       "      <th>4</th>\n",
       "      <th>5</th>\n",
       "    </tr>\n",
       "    <tr>\n",
       "      <th>min_samples_leaf</th>\n",
       "      <th></th>\n",
       "      <th></th>\n",
       "      <th></th>\n",
       "      <th></th>\n",
       "      <th></th>\n",
       "    </tr>\n",
       "  </thead>\n",
       "  <tbody>\n",
       "    <tr>\n",
       "      <th>1</th>\n",
       "      <td>0.723</td>\n",
       "      <td>0.784</td>\n",
       "      <td>0.811</td>\n",
       "      <td>0.729</td>\n",
       "      <td>0.718</td>\n",
       "    </tr>\n",
       "    <tr>\n",
       "      <th>5</th>\n",
       "      <td>0.723</td>\n",
       "      <td>0.784</td>\n",
       "      <td>0.817</td>\n",
       "      <td>0.780</td>\n",
       "      <td>0.744</td>\n",
       "    </tr>\n",
       "    <tr>\n",
       "      <th>10</th>\n",
       "      <td>0.723</td>\n",
       "      <td>0.795</td>\n",
       "      <td>0.782</td>\n",
       "      <td>0.787</td>\n",
       "      <td>0.796</td>\n",
       "    </tr>\n",
       "    <tr>\n",
       "      <th>15</th>\n",
       "      <td>0.723</td>\n",
       "      <td>0.795</td>\n",
       "      <td>0.804</td>\n",
       "      <td>0.810</td>\n",
       "      <td>0.802</td>\n",
       "    </tr>\n",
       "    <tr>\n",
       "      <th>20</th>\n",
       "      <td>0.723</td>\n",
       "      <td>0.795</td>\n",
       "      <td>0.806</td>\n",
       "      <td>0.806</td>\n",
       "      <td>0.802</td>\n",
       "    </tr>\n",
       "    <tr>\n",
       "      <th>100</th>\n",
       "      <td>0.723</td>\n",
       "      <td>0.770</td>\n",
       "      <td>0.770</td>\n",
       "      <td>0.770</td>\n",
       "      <td>0.770</td>\n",
       "    </tr>\n",
       "    <tr>\n",
       "      <th>200</th>\n",
       "      <td>0.723</td>\n",
       "      <td>0.723</td>\n",
       "      <td>0.723</td>\n",
       "      <td>0.723</td>\n",
       "      <td>0.723</td>\n",
       "    </tr>\n",
       "    <tr>\n",
       "      <th>500</th>\n",
       "      <td>0.500</td>\n",
       "      <td>0.500</td>\n",
       "      <td>0.500</td>\n",
       "      <td>0.500</td>\n",
       "      <td>0.500</td>\n",
       "    </tr>\n",
       "  </tbody>\n",
       "</table>\n",
       "</div>"
      ],
      "text/plain": [
       "                    auc                            \n",
       "max_depth             1      2      3      4      5\n",
       "min_samples_leaf                                   \n",
       "1                 0.723  0.784  0.811  0.729  0.718\n",
       "5                 0.723  0.784  0.817  0.780  0.744\n",
       "10                0.723  0.795  0.782  0.787  0.796\n",
       "15                0.723  0.795  0.804  0.810  0.802\n",
       "20                0.723  0.795  0.806  0.806  0.802\n",
       "100               0.723  0.770  0.770  0.770  0.770\n",
       "200               0.723  0.723  0.723  0.723  0.723\n",
       "500               0.500  0.500  0.500  0.500  0.500"
      ]
     },
     "execution_count": 47,
     "metadata": {},
     "output_type": "execute_result"
    }
   ],
   "source": [
    "columns = ['max_depth', 'min_samples_leaf', 'auc']\n",
    "df_scores = pd.DataFrame(scores, columns=columns)\n",
    "df_scores_pivot = df_scores.pivot(index='min_samples_leaf', columns=['max_depth'], values=['auc'])\n",
    "df_scores_pivot.round(3)"
   ]
  },
  {
   "cell_type": "code",
   "execution_count": 48,
   "id": "c1901c8e-f7c8-4e6c-88f0-a626720334ad",
   "metadata": {
    "scrolled": true
   },
   "outputs": [
    {
     "data": {
      "text/plain": [
       "<Axes: xlabel='None-max_depth', ylabel='min_samples_leaf'>"
      ]
     },
     "execution_count": 48,
     "metadata": {},
     "output_type": "execute_result"
    },
    {
     "data": {
      "image/png": "[encoded data removed]",
      "text/plain": [
       "<Figure size 640x480 with 2 Axes>"
      ]
     },
     "metadata": {},
     "output_type": "display_data"
    }
   ],
   "source": [
    "sns.heatmap(df_scores_pivot, annot=True, fmt=\".3f\")"
   ]
  },
  {
   "cell_type": "code",
   "execution_count": 49,
   "id": "c8735efd-16c6-4f6d-805d-abdba3134322",
   "metadata": {},
   "outputs": [],
   "source": [
    "# look at the model using the optimal max_depth and min_samples_leaf\n",
    "\n",
    "dv, dt_model = train_decision_tree_classifier(df_train, y_train, max_depth=3, min_samples_leaf=5)\n",
    "y_pred = predict_decision_tree_classifier(df_val, dv, dt_model)"
   ]
  },
  {
   "cell_type": "code",
   "execution_count": 50,
   "id": "a3edce2f-3f0a-4aad-89f7-5ae1c908d4f5",
   "metadata": {},
   "outputs": [
    {
     "name": "stdout",
     "output_type": "stream",
     "text": [
      "|--- chestpaintype=ASY <= 0.50\n",
      "|   |--- class: 0\n",
      "|--- chestpaintype=ASY >  0.50\n",
      "|   |--- class: 1\n",
      "\n"
     ]
    }
   ],
   "source": [
    "print(export_text(model, feature_names=list(dv.get_feature_names_out())))"
   ]
  },
  {
   "cell_type": "code",
   "execution_count": 51,
   "id": "5d3f79ec-4b4f-4ef7-9da9-d44472562fae",
   "metadata": {},
   "outputs": [
    {
     "data": {
      "text/html": [
       "<style>#sk-container-id-2 {color: black;}#sk-container-id-2 pre{padding: 0;}#sk-container-id-2 div.sk-toggleable {background-color: white;}#sk-container-id-2 label.sk-toggleable__label {cursor: pointer;display: block;width: 100%;margin-bottom: 0;padding: 0.3em;box-sizing: border-box;text-align: center;}#sk-container-id-2 label.sk-toggleable__label-arrow:before {content: \"▸\";float: left;margin-right: 0.25em;color: #696969;}#sk-container-id-2 label.sk-toggleable__label-arrow:hover:before {color: black;}#sk-container-id-2 div.sk-estimator:hover label.sk-toggleable__label-arrow:before {color: black;}#sk-container-id-2 div.sk-toggleable__content {max-height: 0;max-width: 0;overflow: hidden;text-align: left;background-color: #f0f8ff;}#sk-container-id-2 div.sk-toggleable__content pre {margin: 0.2em;color: black;border-radius: 0.25em;background-color: #f0f8ff;}#sk-container-id-2 input.sk-toggleable__control:checked~div.sk-toggleable__content {max-height: 200px;max-width: 100%;overflow: auto;}#sk-container-id-2 input.sk-toggleable__control:checked~label.sk-toggleable__label-arrow:before {content: \"▾\";}#sk-container-id-2 div.sk-estimator input.sk-toggleable__control:checked~label.sk-toggleable__label {background-color: #d4ebff;}#sk-container-id-2 div.sk-label input.sk-toggleable__control:checked~label.sk-toggleable__label {background-color: #d4ebff;}#sk-container-id-2 input.sk-hidden--visually {border: 0;clip: rect(1px 1px 1px 1px);clip: rect(1px, 1px, 1px, 1px);height: 1px;margin: -1px;overflow: hidden;padding: 0;position: absolute;width: 1px;}#sk-container-id-2 div.sk-estimator {font-family: monospace;background-color: #f0f8ff;border: 1px dotted black;border-radius: 0.25em;box-sizing: border-box;margin-bottom: 0.5em;}#sk-container-id-2 div.sk-estimator:hover {background-color: #d4ebff;}#sk-container-id-2 div.sk-parallel-item::after {content: \"\";width: 100%;border-bottom: 1px solid gray;flex-grow: 1;}#sk-container-id-2 div.sk-label:hover label.sk-toggleable__label {background-color: #d4ebff;}#sk-container-id-2 div.sk-serial::before {content: \"\";position: absolute;border-left: 1px solid gray;box-sizing: border-box;top: 0;bottom: 0;left: 50%;z-index: 0;}#sk-container-id-2 div.sk-serial {display: flex;flex-direction: column;align-items: center;background-color: white;padding-right: 0.2em;padding-left: 0.2em;position: relative;}#sk-container-id-2 div.sk-item {position: relative;z-index: 1;}#sk-container-id-2 div.sk-parallel {display: flex;align-items: stretch;justify-content: center;background-color: white;position: relative;}#sk-container-id-2 div.sk-item::before, #sk-container-id-2 div.sk-parallel-item::before {content: \"\";position: absolute;border-left: 1px solid gray;box-sizing: border-box;top: 0;bottom: 0;left: 50%;z-index: -1;}#sk-container-id-2 div.sk-parallel-item {display: flex;flex-direction: column;z-index: 1;position: relative;background-color: white;}#sk-container-id-2 div.sk-parallel-item:first-child::after {align-self: flex-end;width: 50%;}#sk-container-id-2 div.sk-parallel-item:last-child::after {align-self: flex-start;width: 50%;}#sk-container-id-2 div.sk-parallel-item:only-child::after {width: 0;}#sk-container-id-2 div.sk-dashed-wrapped {border: 1px dashed gray;margin: 0 0.4em 0.5em 0.4em;box-sizing: border-box;padding-bottom: 0.4em;background-color: white;}#sk-container-id-2 div.sk-label label {font-family: monospace;font-weight: bold;display: inline-block;line-height: 1.2em;}#sk-container-id-2 div.sk-label-container {text-align: center;}#sk-container-id-2 div.sk-container {/* jupyter's `normalize.less` sets `[hidden] { display: none; }` but bootstrap.min.css set `[hidden] { display: none !important; }` so we also need the `!important` here to be able to override the default hidden behavior on the sphinx rendered scikit-learn.org. See: https://github.com/scikit-learn/scikit-learn/issues/21755 */display: inline-block !important;position: relative;}#sk-container-id-2 div.sk-text-repr-fallback {display: none;}</style><div id=\"sk-container-id-2\" class=\"sk-top-container\"><div class=\"sk-text-repr-fallback\"><pre>DecisionTreeClassifier(max_depth=3, min_samples_leaf=5, random_state=1)</pre><b>In a Jupyter environment, please rerun this cell to show the HTML representation or trust the notebook. <br />On GitHub, the HTML representation is unable to render, please try loading this page with nbviewer.org.</b></div><div class=\"sk-container\" hidden><div class=\"sk-item\"><div class=\"sk-estimator sk-toggleable\"><input class=\"sk-toggleable__control sk-hidden--visually\" id=\"sk-estimator-id-2\" type=\"checkbox\" checked><label for=\"sk-estimator-id-2\" class=\"sk-toggleable__label sk-toggleable__label-arrow\">DecisionTreeClassifier</label><div class=\"sk-toggleable__content\"><pre>DecisionTreeClassifier(max_depth=3, min_samples_leaf=5, random_state=1)</pre></div></div></div></div></div>"
      ],
      "text/plain": [
       "DecisionTreeClassifier(max_depth=3, min_samples_leaf=5, random_state=1)"
      ]
     },
     "execution_count": 51,
     "metadata": {},
     "output_type": "execute_result"
    }
   ],
   "source": [
    "dt_model"
   ]
  },
  {
   "cell_type": "markdown",
   "id": "bb821a01-385d-4898-8e3e-4dacd1500f30",
   "metadata": {},
   "source": [
    "## Train random forest model"
   ]
  },
  {
   "cell_type": "code",
   "execution_count": 52,
   "id": "725b7139-d5c4-46c2-8c34-7b18d002bc09",
   "metadata": {},
   "outputs": [],
   "source": [
    "def train_random_forest_classifier(df_train, y_train, max_depth=None, min_samples_leaf=1, n_estimators=100):\n",
    "    train_dicts = df_train[categorical + numerical].to_dict(orient='records')\n",
    "\n",
    "    dv = DictVectorizer(sparse=False)\n",
    "    X_train = dv.fit_transform(train_dicts)\n",
    "    \n",
    "    model = RandomForestClassifier(random_state=seed,\n",
    "                                   max_depth=max_depth,\n",
    "                                   min_samples_leaf=min_samples_leaf,\n",
    "                                   n_estimators=n_estimators)\n",
    "    model.fit(X_train, y_train)\n",
    "\n",
    "    return dv, model"
   ]
  },
  {
   "cell_type": "code",
   "execution_count": 53,
   "id": "a69480a2-8b12-4a14-a5be-aba7a83a1bd7",
   "metadata": {},
   "outputs": [],
   "source": [
    "def predict_random_forest_classifier(df, dv, model):\n",
    "    val_dicts = df[categorical + numerical].to_dict(orient='records')\n",
    "    X_val = dv.transform(val_dicts)\n",
    "\n",
    "    y_pred = model.predict_proba(X_val)[:, 1]\n",
    "\n",
    "    return y_pred"
   ]
  },
  {
   "cell_type": "code",
   "execution_count": 54,
   "id": "1a4ecb8d-7e03-4842-9584-e09b94186838",
   "metadata": {},
   "outputs": [],
   "source": [
    "dv, rf_model = train_random_forest_classifier(df_train, y_train)\n",
    "y_pred = predict_random_forest_classifier(df_val, dv, rf_model)"
   ]
  },
  {
   "cell_type": "code",
   "execution_count": 55,
   "id": "6b0a1541-eb2f-4da9-9708-93612cb592a6",
   "metadata": {},
   "outputs": [
    {
     "data": {
      "text/plain": [
       "0.8329564725833805"
      ]
     },
     "execution_count": 55,
     "metadata": {},
     "output_type": "execute_result"
    }
   ],
   "source": [
    "roc_auc_score(y_val, y_pred)"
   ]
  },
  {
   "cell_type": "code",
   "execution_count": 56,
   "id": "6da0129c-5993-40be-8df0-2d4cc31a3ee7",
   "metadata": {},
   "outputs": [
    {
     "data": {
      "text/plain": [
       "[(10, 0.8155737704918032),\n",
       " (20, 0.8062464669304692),\n",
       " (30, 0.8055398530243074),\n",
       " (40, 0.8165630299604296),\n",
       " (50, 0.8260316563029961),\n",
       " (60, 0.8309779536461277),\n",
       " (70, 0.8345110231769362),\n",
       " (80, 0.8342283776144714),\n",
       " (90, 0.8332391181458451),\n",
       " (100, 0.8329564725833805),\n",
       " (110, 0.8316845675522894),\n",
       " (120, 0.8304126625211984),\n",
       " (130, 0.8288581119276428),\n",
       " (140, 0.8328151498021481),\n",
       " (150, 0.833663086489542),\n",
       " (160, 0.8325325042396835),\n",
       " (170, 0.8330977953646128),\n",
       " (180, 0.8328151498021481),\n",
       " (190, 0.8338044092707745),\n",
       " (200, 0.8332391181458452)]"
      ]
     },
     "execution_count": 56,
     "metadata": {},
     "output_type": "execute_result"
    }
   ],
   "source": [
    "# determine optimal n_estimators\n",
    "scores = []\n",
    "\n",
    "for n in range(10, 201, 10):\n",
    "    dv, model = train_random_forest_classifier(df_train,\n",
    "                                               y_train,\n",
    "                                               n_estimators=n)\n",
    "    y_pred = predict_random_forest_classifier(df_val, dv, model)\n",
    "\n",
    "    auc = roc_auc_score(y_val, y_pred)\n",
    "\n",
    "    scores.append((n, auc))\n",
    "scores"
   ]
  },
  {
   "cell_type": "code",
   "execution_count": 57,
   "id": "3aa01b29-b03a-4db8-ab44-e39c5ab71fca",
   "metadata": {},
   "outputs": [
    {
     "data": {
      "text/plain": [
       "[<matplotlib.lines.Line2D at 0x12b9e2200>]"
      ]
     },
     "execution_count": 57,
     "metadata": {},
     "output_type": "execute_result"
    },
    {
     "data": {
      "image/png": "[encoded data removed]",
      "text/plain": [
       "<Figure size 640x480 with 1 Axes>"
      ]
     },
     "metadata": {},
     "output_type": "display_data"
    }
   ],
   "source": [
    "df_scores = pd.DataFrame(scores, columns=['n_estimators', 'auc'])\n",
    "plt.plot(df_scores.n_estimators, df_scores.auc)"
   ]
  },
  {
   "cell_type": "code",
   "execution_count": 58,
   "id": "ddd20401-9646-42c5-a1ac-299a979eda2b",
   "metadata": {},
   "outputs": [],
   "source": [
    "n_estimators_rf = 70"
   ]
  },
  {
   "cell_type": "code",
   "execution_count": 59,
   "id": "05504162-37f6-43bb-a983-d95cc3870d9e",
   "metadata": {},
   "outputs": [],
   "source": [
    "# determine optimal max_depth\n",
    "scores = []\n",
    "depths = [3, 5, 10, 15]\n",
    "\n",
    "for d in depths:\n",
    "    for n in range(10, 201, 10):\n",
    "        dv, model = train_random_forest_classifier(df_train,\n",
    "                                                   y_train,\n",
    "                                                   max_depth=d,\n",
    "                                                   n_estimators=n)\n",
    "        y_pred = predict_random_forest_classifier(df_val, dv, model)\n",
    "        auc = roc_auc_score(y_val, y_pred)\n",
    "\n",
    "        scores.append((d, n, auc))"
   ]
  },
  {
   "cell_type": "code",
   "execution_count": 60,
   "id": "e4d7ddf7-29b6-4bd4-a31a-97b2901b99af",
   "metadata": {},
   "outputs": [
    {
     "data": {
      "text/plain": [
       "<matplotlib.legend.Legend at 0x12b8d5090>"
      ]
     },
     "execution_count": 60,
     "metadata": {},
     "output_type": "execute_result"
    },
    {
     "data": {
      "image/png": "[encoded data removed]",
      "text/plain": [
       "<Figure size 640x480 with 1 Axes>"
      ]
     },
     "metadata": {},
     "output_type": "display_data"
    }
   ],
   "source": [
    "columns = ['max_depth', 'n_estimators', 'auc']\n",
    "df_scores = pd.DataFrame(scores, columns=columns)\n",
    "\n",
    "for d in depths:\n",
    "    df_subset = df_scores[df_scores.max_depth == d]\n",
    "    \n",
    "    plt.plot(df_subset.n_estimators, df_subset.auc,\n",
    "             label='max_depth=%d' % d)\n",
    "\n",
    "plt.legend()"
   ]
  },
  {
   "cell_type": "code",
   "execution_count": 61,
   "id": "65aec4d8-3b0c-4b07-a839-5dc12fb1a314",
   "metadata": {},
   "outputs": [],
   "source": [
    "max_depth = 5"
   ]
  },
  {
   "cell_type": "code",
   "execution_count": 62,
   "id": "c72fcbc7-74a1-45ef-b994-deb4898812a9",
   "metadata": {},
   "outputs": [],
   "source": [
    "# determine optimal min_samples_leaf\n",
    "scores = []\n",
    "min_samples_leaf_rf = [1, 3, 5, 10, 50]\n",
    "\n",
    "for s in min_samples_leaf_rf:\n",
    "    for n in range(10, 201, 10):\n",
    "        dv, model = train_random_forest_classifier(df_train,\n",
    "                                                   y_train,\n",
    "                                                   max_depth=max_depth,\n",
    "                                                   min_samples_leaf=s,\n",
    "                                                   n_estimators=n)\n",
    "        y_pred = predict_random_forest_classifier(df_val, dv, model)\n",
    "\n",
    "        auc = roc_auc_score(y_val, y_pred)\n",
    "\n",
    "        scores.append((s, n, auc))"
   ]
  },
  {
   "cell_type": "code",
   "execution_count": 63,
   "id": "61b9e009-c365-4a33-90de-67f7d4b74759",
   "metadata": {},
   "outputs": [],
   "source": [
    "columns = ['min_samples_leaf', 'n_estimators', 'auc']\n",
    "df_scores = pd.DataFrame(scores, columns=columns)"
   ]
  },
  {
   "cell_type": "code",
   "execution_count": 64,
   "id": "8f4ec739-5dd8-432b-b33b-109411a6f18c",
   "metadata": {},
   "outputs": [
    {
     "data": {
      "text/plain": [
       "<matplotlib.legend.Legend at 0x12bad0730>"
      ]
     },
     "execution_count": 64,
     "metadata": {},
     "output_type": "execute_result"
    },
    {
     "data": {
      "image/png": "[encoded data removed]",
      "text/plain": [
       "<Figure size 640x480 with 1 Axes>"
      ]
     },
     "metadata": {},
     "output_type": "display_data"
    }
   ],
   "source": [
    "colors = ['black', 'blue', 'orange', 'red', 'grey']\n",
    "\n",
    "for s, col in zip(min_samples_leaf_rf, colors):\n",
    "    df_subset = df_scores[df_scores.min_samples_leaf == s]\n",
    "    \n",
    "    plt.plot(df_subset.n_estimators, df_subset.auc,\n",
    "             color=col,\n",
    "             label='min_samples_leaf=%d' % s)\n",
    "\n",
    "plt.legend()"
   ]
  },
  {
   "cell_type": "code",
   "execution_count": 65,
   "id": "b779c065-6463-4cd9-9871-a38b1d052ab9",
   "metadata": {},
   "outputs": [
    {
     "data": {
      "text/plain": [
       "[(3, 10, 0.8535895986433013),\n",
       " (3, 20, 0.8540135669869983),\n",
       " (3, 30, 0.8631995477671002),\n",
       " (3, 40, 0.8600904465799887),\n",
       " (3, 50, 0.8634821933295647),\n",
       " (3, 60, 0.8671565856416055),\n",
       " (3, 70, 0.8708309779536462),\n",
       " (3, 80, 0.8705483323911816),\n",
       " (3, 90, 0.8719615602035048),\n",
       " (3, 100, 0.8697003957037874),\n",
       " (3, 110, 0.8697003957037874),\n",
       " (3, 120, 0.8713962690785755),\n",
       " (3, 130, 0.8694177501413228),\n",
       " (3, 140, 0.8694177501413227),\n",
       " (3, 150, 0.865743357829282),\n",
       " (3, 160, 0.8657433578292821),\n",
       " (3, 170, 0.8668739400791408),\n",
       " (3, 180, 0.8699830412662521),\n",
       " (3, 190, 0.8691351045788581),\n",
       " (3, 200, 0.8697003957037874)]"
      ]
     },
     "execution_count": 65,
     "metadata": {},
     "output_type": "execute_result"
    }
   ],
   "source": [
    "[s for s in scores if s[0] == 3]"
   ]
  },
  {
   "cell_type": "code",
   "execution_count": 66,
   "id": "c00626cb-771c-4ec5-9e96-4da83d81ecb6",
   "metadata": {},
   "outputs": [
    {
     "data": {
      "text/html": [
       "<style>#sk-container-id-3 {color: black;}#sk-container-id-3 pre{padding: 0;}#sk-container-id-3 div.sk-toggleable {background-color: white;}#sk-container-id-3 label.sk-toggleable__label {cursor: pointer;display: block;width: 100%;margin-bottom: 0;padding: 0.3em;box-sizing: border-box;text-align: center;}#sk-container-id-3 label.sk-toggleable__label-arrow:before {content: \"▸\";float: left;margin-right: 0.25em;color: #696969;}#sk-container-id-3 label.sk-toggleable__label-arrow:hover:before {color: black;}#sk-container-id-3 div.sk-estimator:hover label.sk-toggleable__label-arrow:before {color: black;}#sk-container-id-3 div.sk-toggleable__content {max-height: 0;max-width: 0;overflow: hidden;text-align: left;background-color: #f0f8ff;}#sk-container-id-3 div.sk-toggleable__content pre {margin: 0.2em;color: black;border-radius: 0.25em;background-color: #f0f8ff;}#sk-container-id-3 input.sk-toggleable__control:checked~div.sk-toggleable__content {max-height: 200px;max-width: 100%;overflow: auto;}#sk-container-id-3 input.sk-toggleable__control:checked~label.sk-toggleable__label-arrow:before {content: \"▾\";}#sk-container-id-3 div.sk-estimator input.sk-toggleable__control:checked~label.sk-toggleable__label {background-color: #d4ebff;}#sk-container-id-3 div.sk-label input.sk-toggleable__control:checked~label.sk-toggleable__label {background-color: #d4ebff;}#sk-container-id-3 input.sk-hidden--visually {border: 0;clip: rect(1px 1px 1px 1px);clip: rect(1px, 1px, 1px, 1px);height: 1px;margin: -1px;overflow: hidden;padding: 0;position: absolute;width: 1px;}#sk-container-id-3 div.sk-estimator {font-family: monospace;background-color: #f0f8ff;border: 1px dotted black;border-radius: 0.25em;box-sizing: border-box;margin-bottom: 0.5em;}#sk-container-id-3 div.sk-estimator:hover {background-color: #d4ebff;}#sk-container-id-3 div.sk-parallel-item::after {content: \"\";width: 100%;border-bottom: 1px solid gray;flex-grow: 1;}#sk-container-id-3 div.sk-label:hover label.sk-toggleable__label {background-color: #d4ebff;}#sk-container-id-3 div.sk-serial::before {content: \"\";position: absolute;border-left: 1px solid gray;box-sizing: border-box;top: 0;bottom: 0;left: 50%;z-index: 0;}#sk-container-id-3 div.sk-serial {display: flex;flex-direction: column;align-items: center;background-color: white;padding-right: 0.2em;padding-left: 0.2em;position: relative;}#sk-container-id-3 div.sk-item {position: relative;z-index: 1;}#sk-container-id-3 div.sk-parallel {display: flex;align-items: stretch;justify-content: center;background-color: white;position: relative;}#sk-container-id-3 div.sk-item::before, #sk-container-id-3 div.sk-parallel-item::before {content: \"\";position: absolute;border-left: 1px solid gray;box-sizing: border-box;top: 0;bottom: 0;left: 50%;z-index: -1;}#sk-container-id-3 div.sk-parallel-item {display: flex;flex-direction: column;z-index: 1;position: relative;background-color: white;}#sk-container-id-3 div.sk-parallel-item:first-child::after {align-self: flex-end;width: 50%;}#sk-container-id-3 div.sk-parallel-item:last-child::after {align-self: flex-start;width: 50%;}#sk-container-id-3 div.sk-parallel-item:only-child::after {width: 0;}#sk-container-id-3 div.sk-dashed-wrapped {border: 1px dashed gray;margin: 0 0.4em 0.5em 0.4em;box-sizing: border-box;padding-bottom: 0.4em;background-color: white;}#sk-container-id-3 div.sk-label label {font-family: monospace;font-weight: bold;display: inline-block;line-height: 1.2em;}#sk-container-id-3 div.sk-label-container {text-align: center;}#sk-container-id-3 div.sk-container {/* jupyter's `normalize.less` sets `[hidden] { display: none; }` but bootstrap.min.css set `[hidden] { display: none !important; }` so we also need the `!important` here to be able to override the default hidden behavior on the sphinx rendered scikit-learn.org. See: https://github.com/scikit-learn/scikit-learn/issues/21755 */display: inline-block !important;position: relative;}#sk-container-id-3 div.sk-text-repr-fallback {display: none;}</style><div id=\"sk-container-id-3\" class=\"sk-top-container\"><div class=\"sk-text-repr-fallback\"><pre>RandomForestClassifier(max_depth=5, min_samples_leaf=3, n_estimators=70,\n",
       "                       random_state=1)</pre><b>In a Jupyter environment, please rerun this cell to show the HTML representation or trust the notebook. <br />On GitHub, the HTML representation is unable to render, please try loading this page with nbviewer.org.</b></div><div class=\"sk-container\" hidden><div class=\"sk-item\"><div class=\"sk-estimator sk-toggleable\"><input class=\"sk-toggleable__control sk-hidden--visually\" id=\"sk-estimator-id-3\" type=\"checkbox\" checked><label for=\"sk-estimator-id-3\" class=\"sk-toggleable__label sk-toggleable__label-arrow\">RandomForestClassifier</label><div class=\"sk-toggleable__content\"><pre>RandomForestClassifier(max_depth=5, min_samples_leaf=3, n_estimators=70,\n",
       "                       random_state=1)</pre></div></div></div></div></div>"
      ],
      "text/plain": [
       "RandomForestClassifier(max_depth=5, min_samples_leaf=3, n_estimators=70,\n",
       "                       random_state=1)"
      ]
     },
     "execution_count": 66,
     "metadata": {},
     "output_type": "execute_result"
    }
   ],
   "source": [
    "# final random forest model\n",
    "dv, rf_model = train_random_forest_classifier(df_train, y_train, max_depth=5, min_samples_leaf=3, n_estimators=70)\n",
    "y_pred = predict_random_forest_classifier(df_val, dv, rf_model)\n",
    "rf_model"
   ]
  },
  {
   "cell_type": "markdown",
   "id": "298cadd2-7184-4bc7-a684-c5ccd077364f",
   "metadata": {},
   "source": [
    "## Train XGBoost model"
   ]
  },
  {
   "cell_type": "code",
   "execution_count": 67,
   "id": "46070a09-c218-44fb-984c-77b47f4d6cd5",
   "metadata": {},
   "outputs": [],
   "source": [
    "import xgboost as xgb"
   ]
  },
  {
   "cell_type": "code",
   "execution_count": 68,
   "id": "08b96527-28b6-4e3b-bf28-b238636e78cb",
   "metadata": {},
   "outputs": [],
   "source": [
    "def parse_xgb_output(output):\n",
    "    results = []\n",
    "\n",
    "    for line in output.stdout.strip().split('\\n'):\n",
    "        it_line, train_line, val_line = line.split('\\t')\n",
    "\n",
    "        it = int(it_line.strip('[]'))\n",
    "        train = float(train_line.split(':')[1])\n",
    "        val = float(val_line.split(':')[1])\n",
    "\n",
    "        results.append((it, train, val))\n",
    "    \n",
    "    columns = ['num_iter', 'train_auc', 'val_auc']\n",
    "    df_results = pd.DataFrame(results, columns=columns)\n",
    "    return df_results"
   ]
  },
  {
   "cell_type": "code",
   "execution_count": 69,
   "id": "86eab5db-ce1d-4b70-943f-87adbd8da381",
   "metadata": {},
   "outputs": [],
   "source": [
    "X_train, dv = get_xtrain()\n",
    "X_val = get_xval(df_val, dv)\n",
    "\n",
    "features = dv.get_feature_names_out().tolist()\n",
    "dtrain = xgb.DMatrix(X_train, label=y_train, feature_names=features)\n",
    "dval = xgb.DMatrix(X_val, label=y_val, feature_names=features)"
   ]
  },
  {
   "cell_type": "code",
   "execution_count": 70,
   "id": "d1bf092e-5601-4d50-85a9-88e9cba35db1",
   "metadata": {},
   "outputs": [],
   "source": [
    "watchlist = [(dtrain, 'train'), (dval, 'val')]\n",
    "scores = {}"
   ]
  },
  {
   "cell_type": "code",
   "execution_count": 71,
   "id": "cedcea15-08f1-4c6e-9b95-49606b399c2b",
   "metadata": {},
   "outputs": [],
   "source": [
    "%%capture output\n",
    "\n",
    "xgb_params = {\n",
    "    'eta': 0.3, \n",
    "    'max_depth': 10,\n",
    "    'min_child_weight': 1,\n",
    "    \n",
    "    'objective': 'binary:logistic',\n",
    "    'eval_metric': 'auc',\n",
    "\n",
    "    'nthread': 8,\n",
    "    'seed': 1,\n",
    "    'verbosity': 1,\n",
    "}\n",
    "\n",
    "model = xgb.train(xgb_params, dtrain, num_boost_round=200,\n",
    "                  verbose_eval=5,\n",
    "                  evals=watchlist)"
   ]
  },
  {
   "cell_type": "code",
   "execution_count": 72,
   "id": "592c7660-fb43-4bdd-a92a-48a26a5a2f94",
   "metadata": {
    "scrolled": true
   },
   "outputs": [
    {
     "data": {
      "text/plain": [
       "<matplotlib.legend.Legend at 0x12bd51c90>"
      ]
     },
     "execution_count": 72,
     "metadata": {},
     "output_type": "execute_result"
    },
    {
     "data": {
      "image/png": "[encoded data removed]",
      "text/plain": [
       "<Figure size 640x480 with 1 Axes>"
      ]
     },
     "metadata": {},
     "output_type": "display_data"
    }
   ],
   "source": [
    "df_score = parse_xgb_output(output)\n",
    "plt.plot(df_score.num_iter, df_score.train_auc, label='train')\n",
    "plt.plot(df_score.num_iter, df_score.val_auc, label='val')\n",
    "plt.legend()"
   ]
  },
  {
   "cell_type": "code",
   "execution_count": 73,
   "id": "8166d43d-7108-4664-aaee-726aeceda2e4",
   "metadata": {},
   "outputs": [],
   "source": [
    "# determine optimal max_depth\n",
    "scores = {}"
   ]
  },
  {
   "cell_type": "code",
   "execution_count": 74,
   "id": "e0c5badd-5c52-409f-9ba2-a69123dbb533",
   "metadata": {},
   "outputs": [],
   "source": [
    "%%capture output\n",
    "\n",
    "xgb_params = {\n",
    "    'eta': 0.3, \n",
    "    'max_depth': 5,\n",
    "    'min_child_weight': 1,\n",
    "    \n",
    "    'objective': 'binary:logistic',\n",
    "    'eval_metric': 'auc',\n",
    "\n",
    "    'nthread': 8,\n",
    "    'seed': 1,\n",
    "    'verbosity': 1,\n",
    "}\n",
    "\n",
    "model = xgb.train(xgb_params, dtrain, num_boost_round=200,\n",
    "                  verbose_eval=5,\n",
    "                  evals=watchlist)"
   ]
  },
  {
   "cell_type": "code",
   "execution_count": 75,
   "id": "2745df02-2792-449c-b058-be6e08f54d27",
   "metadata": {},
   "outputs": [
    {
     "data": {
      "text/plain": [
       "'max_depth=5'"
      ]
     },
     "execution_count": 75,
     "metadata": {},
     "output_type": "execute_result"
    }
   ],
   "source": [
    "key = 'max_depth=%s' % (xgb_params['max_depth'])\n",
    "scores[key] = parse_xgb_output(output)\n",
    "key"
   ]
  },
  {
   "cell_type": "code",
   "execution_count": 76,
   "id": "562c67a8-2369-4006-a84c-7b6751320c5c",
   "metadata": {},
   "outputs": [],
   "source": [
    "%%capture output\n",
    "\n",
    "xgb_params = {\n",
    "    'eta': 0.3, \n",
    "    'max_depth': 8,\n",
    "    'min_child_weight': 1,\n",
    "    \n",
    "    'objective': 'binary:logistic',\n",
    "    'eval_metric': 'auc',\n",
    "\n",
    "    'nthread': 8,\n",
    "    'seed': 1,\n",
    "    'verbosity': 1,\n",
    "}\n",
    "\n",
    "model = xgb.train(xgb_params, dtrain, num_boost_round=200,\n",
    "                  verbose_eval=5,\n",
    "                  evals=watchlist)"
   ]
  },
  {
   "cell_type": "code",
   "execution_count": 77,
   "id": "20208b82-5381-4d27-b629-2b0c3a87ecb3",
   "metadata": {},
   "outputs": [
    {
     "data": {
      "text/plain": [
       "'max_depth=8'"
      ]
     },
     "execution_count": 77,
     "metadata": {},
     "output_type": "execute_result"
    }
   ],
   "source": [
    "key = 'max_depth=%s' % (xgb_params['max_depth'])\n",
    "scores[key] = parse_xgb_output(output)\n",
    "key"
   ]
  },
  {
   "cell_type": "code",
   "execution_count": 78,
   "id": "a4ab835f-2361-4024-b4c3-c8f354c25d1c",
   "metadata": {},
   "outputs": [],
   "source": [
    "%%capture output\n",
    "\n",
    "xgb_params = {\n",
    "    'eta': 0.3, \n",
    "    'max_depth': 10,\n",
    "    'min_child_weight': 1,\n",
    "    \n",
    "    'objective': 'binary:logistic',\n",
    "    'eval_metric': 'auc',\n",
    "\n",
    "    'nthread': 8,\n",
    "    'seed': 1,\n",
    "    'verbosity': 1,\n",
    "}\n",
    "\n",
    "model = xgb.train(xgb_params, dtrain, num_boost_round=200,\n",
    "                  verbose_eval=5,\n",
    "                  evals=watchlist)"
   ]
  },
  {
   "cell_type": "code",
   "execution_count": 79,
   "id": "8e3d3936-55a1-4320-9c78-a6ad7832a81e",
   "metadata": {},
   "outputs": [
    {
     "data": {
      "text/plain": [
       "'max_depth=10'"
      ]
     },
     "execution_count": 79,
     "metadata": {},
     "output_type": "execute_result"
    }
   ],
   "source": [
    "key = 'max_depth=%s' % (xgb_params['max_depth'])\n",
    "scores[key] = parse_xgb_output(output)\n",
    "key"
   ]
  },
  {
   "cell_type": "code",
   "execution_count": 80,
   "id": "4a32c1c9-116b-4cc5-b053-72d66f635aca",
   "metadata": {},
   "outputs": [],
   "source": [
    "%%capture output\n",
    "\n",
    "xgb_params = {\n",
    "    'eta': 0.3, \n",
    "    'max_depth': 11,\n",
    "    'min_child_weight': 1,\n",
    "    \n",
    "    'objective': 'binary:logistic',\n",
    "    'eval_metric': 'auc',\n",
    "\n",
    "    'nthread': 8,\n",
    "    'seed': 1,\n",
    "    'verbosity': 1,\n",
    "}\n",
    "\n",
    "model = xgb.train(xgb_params, dtrain, num_boost_round=200,\n",
    "                  verbose_eval=5,\n",
    "                  evals=watchlist)"
   ]
  },
  {
   "cell_type": "code",
   "execution_count": 81,
   "id": "5553c928-5ac5-4fa1-8116-8a2fb5bb1e8d",
   "metadata": {},
   "outputs": [
    {
     "data": {
      "text/plain": [
       "'max_depth=11'"
      ]
     },
     "execution_count": 81,
     "metadata": {},
     "output_type": "execute_result"
    }
   ],
   "source": [
    "key = 'max_depth=%s' % (xgb_params['max_depth'])\n",
    "scores[key] = parse_xgb_output(output)\n",
    "key"
   ]
  },
  {
   "cell_type": "code",
   "execution_count": 82,
   "id": "09c32a22-23d7-45b4-8c4e-06166f91e655",
   "metadata": {},
   "outputs": [],
   "source": [
    "%%capture output\n",
    "\n",
    "xgb_params = {\n",
    "    'eta': 0.3, \n",
    "    'max_depth': 12,\n",
    "    'min_child_weight': 1,\n",
    "    \n",
    "    'objective': 'binary:logistic',\n",
    "    'eval_metric': 'auc',\n",
    "\n",
    "    'nthread': 8,\n",
    "    'seed': 1,\n",
    "    'verbosity': 1,\n",
    "}\n",
    "\n",
    "model = xgb.train(xgb_params, dtrain, num_boost_round=200,\n",
    "                  verbose_eval=5,\n",
    "                  evals=watchlist)"
   ]
  },
  {
   "cell_type": "code",
   "execution_count": 83,
   "id": "c838ea36-ce6d-41c4-85ea-df10ab4b9deb",
   "metadata": {},
   "outputs": [
    {
     "data": {
      "text/plain": [
       "'max_depth=12'"
      ]
     },
     "execution_count": 83,
     "metadata": {},
     "output_type": "execute_result"
    }
   ],
   "source": [
    "key = 'max_depth=%s' % (xgb_params['max_depth'])\n",
    "scores[key] = parse_xgb_output(output)\n",
    "key"
   ]
  },
  {
   "cell_type": "code",
   "execution_count": 84,
   "id": "05f0152f-3a25-4ab0-9f89-e6b078d45294",
   "metadata": {},
   "outputs": [],
   "source": [
    "# the scores in max_depth=12 stomp on max_depth=11 scores, so delete it\n",
    "del scores['max_depth=12']"
   ]
  },
  {
   "cell_type": "code",
   "execution_count": 85,
   "id": "c5272c35-5562-45cd-b4bc-d0ec067769b3",
   "metadata": {
    "scrolled": true
   },
   "outputs": [
    {
     "data": {
      "text/plain": [
       "<matplotlib.legend.Legend at 0x10b8654e0>"
      ]
     },
     "execution_count": 85,
     "metadata": {},
     "output_type": "execute_result"
    },
    {
     "data": {
      "image/png": "[encoded data removed]",
      "text/plain": [
       "<Figure size 640x480 with 1 Axes>"
      ]
     },
     "metadata": {},
     "output_type": "display_data"
    }
   ],
   "source": [
    "for max_depth, df_score in scores.items():\n",
    "    plt.plot(df_score.num_iter, df_score.val_auc, label=max_depth)\n",
    "\n",
    "plt.legend()"
   ]
  },
  {
   "cell_type": "code",
   "execution_count": 86,
   "id": "014566ee-305f-4acb-9366-db2935956881",
   "metadata": {},
   "outputs": [],
   "source": [
    "max_depth_xgb = 5"
   ]
  },
  {
   "cell_type": "code",
   "execution_count": 87,
   "id": "dc3d19ee-61b2-4b0f-99fd-c4ee3b17a8ec",
   "metadata": {},
   "outputs": [],
   "source": [
    "# determine optimal eta\n",
    "scores = {}"
   ]
  },
  {
   "cell_type": "code",
   "execution_count": 88,
   "id": "c6283aa3-30c4-4548-a355-237c37d1ac9e",
   "metadata": {},
   "outputs": [],
   "source": [
    "%%capture output\n",
    "\n",
    "xgb_params = {\n",
    "    'eta': 0.1, \n",
    "    'max_depth': max_depth_xgb,\n",
    "    'min_child_weight': 1,\n",
    "    \n",
    "    'objective': 'binary:logistic',\n",
    "    'eval_metric': 'auc',\n",
    "\n",
    "    'nthread': 8,\n",
    "    'seed': 1,\n",
    "    'verbosity': 1,\n",
    "}\n",
    "\n",
    "model = xgb.train(xgb_params, dtrain, num_boost_round=200,\n",
    "                  verbose_eval=5,\n",
    "                  evals=watchlist)"
   ]
  },
  {
   "cell_type": "code",
   "execution_count": 89,
   "id": "4f40e0f5-b796-4c3e-b602-0872367f31d2",
   "metadata": {},
   "outputs": [
    {
     "data": {
      "text/plain": [
       "'eta=0.1'"
      ]
     },
     "execution_count": 89,
     "metadata": {},
     "output_type": "execute_result"
    }
   ],
   "source": [
    "key = 'eta=%s' % (xgb_params['eta'])\n",
    "scores[key] = parse_xgb_output(output)\n",
    "key"
   ]
  },
  {
   "cell_type": "code",
   "execution_count": 90,
   "id": "6a3d8edf-4a3a-4f8b-a7f9-1b6317f89495",
   "metadata": {},
   "outputs": [],
   "source": [
    "%%capture output\n",
    "\n",
    "xgb_params = {\n",
    "    'eta': 0.3, \n",
    "    'max_depth': max_depth_xgb,\n",
    "    'min_child_weight': 1,\n",
    "    \n",
    "    'objective': 'binary:logistic',\n",
    "    'eval_metric': 'auc',\n",
    "\n",
    "    'nthread': 8,\n",
    "    'seed': 1,\n",
    "    'verbosity': 1,\n",
    "}\n",
    "\n",
    "model = xgb.train(xgb_params, dtrain, num_boost_round=200,\n",
    "                  verbose_eval=5,\n",
    "                  evals=watchlist)"
   ]
  },
  {
   "cell_type": "code",
   "execution_count": 91,
   "id": "c01a267c-56b9-45c7-ab37-9c6d88c6ba9f",
   "metadata": {},
   "outputs": [
    {
     "data": {
      "text/plain": [
       "'eta=0.3'"
      ]
     },
     "execution_count": 91,
     "metadata": {},
     "output_type": "execute_result"
    }
   ],
   "source": [
    "key = 'eta=%s' % (xgb_params['eta'])\n",
    "scores[key] = parse_xgb_output(output)\n",
    "key"
   ]
  },
  {
   "cell_type": "code",
   "execution_count": 92,
   "id": "2ad1b1e3-03d7-4cde-b676-a87ba0afe3ef",
   "metadata": {
    "scrolled": true
   },
   "outputs": [
    {
     "data": {
      "text/plain": [
       "<matplotlib.legend.Legend at 0x12bdcb9d0>"
      ]
     },
     "execution_count": 92,
     "metadata": {},
     "output_type": "execute_result"
    },
    {
     "data": {
      "image/png": "[encoded data removed]",
      "text/plain": [
       "<Figure size 640x480 with 1 Axes>"
      ]
     },
     "metadata": {},
     "output_type": "display_data"
    }
   ],
   "source": [
    "for eta, df_score in scores.items():\n",
    "    plt.plot(df_score.num_iter, df_score.val_auc, label=eta)\n",
    "\n",
    "plt.legend()"
   ]
  },
  {
   "cell_type": "code",
   "execution_count": 93,
   "id": "ef677c88-ddb5-46b5-b0b4-620da9f05501",
   "metadata": {},
   "outputs": [],
   "source": [
    "eta_xgb = 0.1"
   ]
  },
  {
   "cell_type": "code",
   "execution_count": 94,
   "id": "e849d3ef-dc72-4d3b-98c7-b4069206275b",
   "metadata": {},
   "outputs": [],
   "source": [
    "# determine min_child_weight\n",
    "scores = {}"
   ]
  },
  {
   "cell_type": "code",
   "execution_count": 95,
   "id": "f18f383e-820a-48b1-80f5-d030f2cca2d4",
   "metadata": {},
   "outputs": [],
   "source": [
    "%%capture output\n",
    "\n",
    "xgb_params = {\n",
    "    'eta': eta_xgb,\n",
    "    'max_depth': max_depth_xgb,\n",
    "    'min_child_weight': 1,\n",
    "    \n",
    "    'objective': 'binary:logistic',\n",
    "    'eval_metric': 'auc',\n",
    "\n",
    "    'nthread': 8,\n",
    "    'seed': 1,\n",
    "    'verbosity': 1,\n",
    "}\n",
    "\n",
    "model = xgb.train(xgb_params, dtrain, num_boost_round=200,\n",
    "                  verbose_eval=5,\n",
    "                  evals=watchlist)"
   ]
  },
  {
   "cell_type": "code",
   "execution_count": 96,
   "id": "97cd94e7-abf9-4891-ad93-f209a3dfadad",
   "metadata": {},
   "outputs": [
    {
     "data": {
      "text/plain": [
       "'min_child_weight=1'"
      ]
     },
     "execution_count": 96,
     "metadata": {},
     "output_type": "execute_result"
    }
   ],
   "source": [
    "key = 'min_child_weight=%s' % (xgb_params['min_child_weight'])\n",
    "scores[key] = parse_xgb_output(output)\n",
    "key"
   ]
  },
  {
   "cell_type": "code",
   "execution_count": 97,
   "id": "93fc3deb-eb28-4032-98e7-6e6185fec9f3",
   "metadata": {},
   "outputs": [],
   "source": [
    "%%capture output\n",
    "\n",
    "xgb_params = {\n",
    "    'eta': eta_xgb,\n",
    "    'max_depth': max_depth_xgb,\n",
    "    'min_child_weight': 10,\n",
    "    \n",
    "    'objective': 'binary:logistic',\n",
    "    'eval_metric': 'auc',\n",
    "\n",
    "    'nthread': 8,\n",
    "    'seed': 1,\n",
    "    'verbosity': 1,\n",
    "}\n",
    "\n",
    "model = xgb.train(xgb_params, dtrain, num_boost_round=200,\n",
    "                  verbose_eval=5,\n",
    "                  evals=watchlist)"
   ]
  },
  {
   "cell_type": "code",
   "execution_count": 98,
   "id": "496de09e-a4f6-4ff3-8043-5614b8191044",
   "metadata": {},
   "outputs": [
    {
     "data": {
      "text/plain": [
       "'min_child_weight=10'"
      ]
     },
     "execution_count": 98,
     "metadata": {},
     "output_type": "execute_result"
    }
   ],
   "source": [
    "key = 'min_child_weight=%s' % (xgb_params['min_child_weight'])\n",
    "scores[key] = parse_xgb_output(output)\n",
    "key"
   ]
  },
  {
   "cell_type": "code",
   "execution_count": 99,
   "id": "dc1c9f7d-dbf1-47b3-a5d3-c974ff88a230",
   "metadata": {},
   "outputs": [],
   "source": [
    "%%capture output\n",
    "\n",
    "xgb_params = {\n",
    "    'eta': eta_xgb, \n",
    "    'max_depth': max_depth_xgb,\n",
    "    'min_child_weight': 30,\n",
    "    \n",
    "    'objective': 'binary:logistic',\n",
    "    'eval_metric': 'auc',\n",
    "\n",
    "    'nthread': 8,\n",
    "    'seed': 1,\n",
    "    'verbosity': 1,\n",
    "}\n",
    "\n",
    "model = xgb.train(xgb_params, dtrain, num_boost_round=200,\n",
    "                  verbose_eval=5,\n",
    "                  evals=watchlist)"
   ]
  },
  {
   "cell_type": "code",
   "execution_count": 100,
   "id": "d5916ea1-0a5c-4c78-8137-ab4455decb30",
   "metadata": {},
   "outputs": [
    {
     "data": {
      "text/plain": [
       "'min_child_weight=30'"
      ]
     },
     "execution_count": 100,
     "metadata": {},
     "output_type": "execute_result"
    }
   ],
   "source": [
    "key = 'min_child_weight=%s' % (xgb_params['min_child_weight'])\n",
    "scores[key] = parse_xgb_output(output)\n",
    "key"
   ]
  },
  {
   "cell_type": "code",
   "execution_count": 101,
   "id": "254c387b-6047-42de-baa1-9236514d8db5",
   "metadata": {
    "scrolled": true
   },
   "outputs": [
    {
     "data": {
      "text/plain": [
       "<matplotlib.legend.Legend at 0x12c0598a0>"
      ]
     },
     "execution_count": 101,
     "metadata": {},
     "output_type": "execute_result"
    },
    {
     "data": {
      "image/png": "[encoded data removed]",
      "text/plain": [
       "<Figure size 640x480 with 1 Axes>"
      ]
     },
     "metadata": {},
     "output_type": "display_data"
    }
   ],
   "source": [
    "for min_child_weight, df_score in scores.items():\n",
    "    plt.plot(df_score.num_iter, df_score.val_auc, label=min_child_weight)\n",
    "\n",
    "plt.legend()"
   ]
  },
  {
   "cell_type": "code",
   "execution_count": 102,
   "id": "282c55ff-78c8-4c2e-b7a3-005e8a56d463",
   "metadata": {},
   "outputs": [],
   "source": [
    "min_child_weight = 10"
   ]
  },
  {
   "cell_type": "code",
   "execution_count": 103,
   "id": "276d0736-f801-4499-a7ab-d63588080403",
   "metadata": {},
   "outputs": [
    {
     "name": "stdout",
     "output_type": "stream",
     "text": [
      "[0]\ttrain-auc:0.85280\tval-auc:0.80144\n",
      "[5]\ttrain-auc:0.86892\tval-auc:0.82462\n",
      "[10]\ttrain-auc:0.87795\tval-auc:0.83578\n",
      "[15]\ttrain-auc:0.88579\tval-auc:0.84454\n",
      "[20]\ttrain-auc:0.89188\tval-auc:0.85204\n",
      "[25]\ttrain-auc:0.89535\tval-auc:0.85387\n",
      "[30]\ttrain-auc:0.89802\tval-auc:0.85204\n",
      "[35]\ttrain-auc:0.90134\tval-auc:0.85302\n",
      "[40]\ttrain-auc:0.90405\tval-auc:0.85585\n",
      "[45]\ttrain-auc:0.90610\tval-auc:0.85557\n",
      "[50]\ttrain-auc:0.90884\tval-auc:0.85415\n",
      "[55]\ttrain-auc:0.91156\tval-auc:0.85246\n",
      "[60]\ttrain-auc:0.91344\tval-auc:0.85105\n",
      "[65]\ttrain-auc:0.91570\tval-auc:0.85076\n",
      "[70]\ttrain-auc:0.91691\tval-auc:0.85020\n",
      "[75]\ttrain-auc:0.91887\tval-auc:0.84992\n",
      "[80]\ttrain-auc:0.92038\tval-auc:0.84878\n",
      "[85]\ttrain-auc:0.92187\tval-auc:0.84822\n",
      "[90]\ttrain-auc:0.92391\tval-auc:0.84935\n",
      "[95]\ttrain-auc:0.92570\tval-auc:0.84822\n",
      "[100]\ttrain-auc:0.92721\tval-auc:0.84878\n",
      "[105]\ttrain-auc:0.92870\tval-auc:0.84822\n",
      "[110]\ttrain-auc:0.92985\tval-auc:0.84935\n",
      "[115]\ttrain-auc:0.93081\tval-auc:0.84822\n",
      "[120]\ttrain-auc:0.93148\tval-auc:0.84737\n",
      "[125]\ttrain-auc:0.93212\tval-auc:0.84624\n",
      "[130]\ttrain-auc:0.93323\tval-auc:0.84652\n",
      "[135]\ttrain-auc:0.93401\tval-auc:0.84511\n",
      "[140]\ttrain-auc:0.93467\tval-auc:0.84483\n",
      "[145]\ttrain-auc:0.93624\tval-auc:0.84511\n",
      "[150]\ttrain-auc:0.93686\tval-auc:0.84681\n",
      "[155]\ttrain-auc:0.93780\tval-auc:0.84737\n",
      "[160]\ttrain-auc:0.93829\tval-auc:0.84822\n",
      "[165]\ttrain-auc:0.93852\tval-auc:0.84652\n",
      "[170]\ttrain-auc:0.93975\tval-auc:0.84539\n",
      "[175]\ttrain-auc:0.94047\tval-auc:0.84454\n",
      "[180]\ttrain-auc:0.94086\tval-auc:0.84511\n",
      "[185]\ttrain-auc:0.94164\tval-auc:0.84341\n",
      "[190]\ttrain-auc:0.94252\tval-auc:0.84285\n",
      "[195]\ttrain-auc:0.94288\tval-auc:0.84285\n",
      "[199]\ttrain-auc:0.94343\tval-auc:0.84257\n"
     ]
    }
   ],
   "source": [
    "# final model\n",
    "xgb_params = {\n",
    "    'eta': eta_xgb, \n",
    "    'max_depth': max_depth_xgb,\n",
    "    'min_child_weight': min_child_weight,\n",
    "    \n",
    "    'objective': 'binary:logistic',\n",
    "    'eval_metric': 'auc',\n",
    "\n",
    "    'nthread': 8,\n",
    "    'seed': 1,\n",
    "    'verbosity': 1,\n",
    "}\n",
    "\n",
    "model_xgb = xgb.train(xgb_params, dtrain, num_boost_round=200,\n",
    "                      verbose_eval=5,\n",
    "                      evals=watchlist)"
   ]
  },
  {
   "cell_type": "markdown",
   "id": "e27bee69-e432-492f-bd76-0cd5f79db66f",
   "metadata": {},
   "source": [
    "# Select model"
   ]
  },
  {
   "cell_type": "code",
   "execution_count": 104,
   "id": "ca96f28b-c5f0-4bcb-8b05-59d04c926bb4",
   "metadata": {},
   "outputs": [],
   "source": [
    "X_train, dv = get_xtrain()\n",
    "X_val = get_x_nontrain(df_val, dv)\n",
    "X_test = get_x_nontrain(df_test, dv)"
   ]
  },
  {
   "cell_type": "markdown",
   "id": "8ce1400b-b3f2-400d-83bd-d640c2d583c5",
   "metadata": {},
   "source": [
    "## Logistic regression"
   ]
  },
  {
   "cell_type": "code",
   "execution_count": 105,
   "id": "c9445e90-0bca-4786-8585-e0b4f2279c8a",
   "metadata": {},
   "outputs": [
    {
     "data": {
      "text/html": [
       "<style>#sk-container-id-4 {color: black;}#sk-container-id-4 pre{padding: 0;}#sk-container-id-4 div.sk-toggleable {background-color: white;}#sk-container-id-4 label.sk-toggleable__label {cursor: pointer;display: block;width: 100%;margin-bottom: 0;padding: 0.3em;box-sizing: border-box;text-align: center;}#sk-container-id-4 label.sk-toggleable__label-arrow:before {content: \"▸\";float: left;margin-right: 0.25em;color: #696969;}#sk-container-id-4 label.sk-toggleable__label-arrow:hover:before {color: black;}#sk-container-id-4 div.sk-estimator:hover label.sk-toggleable__label-arrow:before {color: black;}#sk-container-id-4 div.sk-toggleable__content {max-height: 0;max-width: 0;overflow: hidden;text-align: left;background-color: #f0f8ff;}#sk-container-id-4 div.sk-toggleable__content pre {margin: 0.2em;color: black;border-radius: 0.25em;background-color: #f0f8ff;}#sk-container-id-4 input.sk-toggleable__control:checked~div.sk-toggleable__content {max-height: 200px;max-width: 100%;overflow: auto;}#sk-container-id-4 input.sk-toggleable__control:checked~label.sk-toggleable__label-arrow:before {content: \"▾\";}#sk-container-id-4 div.sk-estimator input.sk-toggleable__control:checked~label.sk-toggleable__label {background-color: #d4ebff;}#sk-container-id-4 div.sk-label input.sk-toggleable__control:checked~label.sk-toggleable__label {background-color: #d4ebff;}#sk-container-id-4 input.sk-hidden--visually {border: 0;clip: rect(1px 1px 1px 1px);clip: rect(1px, 1px, 1px, 1px);height: 1px;margin: -1px;overflow: hidden;padding: 0;position: absolute;width: 1px;}#sk-container-id-4 div.sk-estimator {font-family: monospace;background-color: #f0f8ff;border: 1px dotted black;border-radius: 0.25em;box-sizing: border-box;margin-bottom: 0.5em;}#sk-container-id-4 div.sk-estimator:hover {background-color: #d4ebff;}#sk-container-id-4 div.sk-parallel-item::after {content: \"\";width: 100%;border-bottom: 1px solid gray;flex-grow: 1;}#sk-container-id-4 div.sk-label:hover label.sk-toggleable__label {background-color: #d4ebff;}#sk-container-id-4 div.sk-serial::before {content: \"\";position: absolute;border-left: 1px solid gray;box-sizing: border-box;top: 0;bottom: 0;left: 50%;z-index: 0;}#sk-container-id-4 div.sk-serial {display: flex;flex-direction: column;align-items: center;background-color: white;padding-right: 0.2em;padding-left: 0.2em;position: relative;}#sk-container-id-4 div.sk-item {position: relative;z-index: 1;}#sk-container-id-4 div.sk-parallel {display: flex;align-items: stretch;justify-content: center;background-color: white;position: relative;}#sk-container-id-4 div.sk-item::before, #sk-container-id-4 div.sk-parallel-item::before {content: \"\";position: absolute;border-left: 1px solid gray;box-sizing: border-box;top: 0;bottom: 0;left: 50%;z-index: -1;}#sk-container-id-4 div.sk-parallel-item {display: flex;flex-direction: column;z-index: 1;position: relative;background-color: white;}#sk-container-id-4 div.sk-parallel-item:first-child::after {align-self: flex-end;width: 50%;}#sk-container-id-4 div.sk-parallel-item:last-child::after {align-self: flex-start;width: 50%;}#sk-container-id-4 div.sk-parallel-item:only-child::after {width: 0;}#sk-container-id-4 div.sk-dashed-wrapped {border: 1px dashed gray;margin: 0 0.4em 0.5em 0.4em;box-sizing: border-box;padding-bottom: 0.4em;background-color: white;}#sk-container-id-4 div.sk-label label {font-family: monospace;font-weight: bold;display: inline-block;line-height: 1.2em;}#sk-container-id-4 div.sk-label-container {text-align: center;}#sk-container-id-4 div.sk-container {/* jupyter's `normalize.less` sets `[hidden] { display: none; }` but bootstrap.min.css set `[hidden] { display: none !important; }` so we also need the `!important` here to be able to override the default hidden behavior on the sphinx rendered scikit-learn.org. See: https://github.com/scikit-learn/scikit-learn/issues/21755 */display: inline-block !important;position: relative;}#sk-container-id-4 div.sk-text-repr-fallback {display: none;}</style><div id=\"sk-container-id-4\" class=\"sk-top-container\"><div class=\"sk-text-repr-fallback\"><pre>LogisticRegression(C=0.5, max_iter=2000, random_state=1)</pre><b>In a Jupyter environment, please rerun this cell to show the HTML representation or trust the notebook. <br />On GitHub, the HTML representation is unable to render, please try loading this page with nbviewer.org.</b></div><div class=\"sk-container\" hidden><div class=\"sk-item\"><div class=\"sk-estimator sk-toggleable\"><input class=\"sk-toggleable__control sk-hidden--visually\" id=\"sk-estimator-id-4\" type=\"checkbox\" checked><label for=\"sk-estimator-id-4\" class=\"sk-toggleable__label sk-toggleable__label-arrow\">LogisticRegression</label><div class=\"sk-toggleable__content\"><pre>LogisticRegression(C=0.5, max_iter=2000, random_state=1)</pre></div></div></div></div></div>"
      ],
      "text/plain": [
       "LogisticRegression(C=0.5, max_iter=2000, random_state=1)"
      ]
     },
     "execution_count": 105,
     "metadata": {},
     "output_type": "execute_result"
    }
   ],
   "source": [
    "model_lr = LogisticRegression(C=0.5, max_iter=2000, random_state=1)\n",
    "model_lr.fit(X_train, y_train)"
   ]
  },
  {
   "cell_type": "code",
   "execution_count": 106,
   "id": "565d2ee5-8029-45d2-9828-9f5852a543c4",
   "metadata": {
    "scrolled": true
   },
   "outputs": [
    {
     "data": {
      "text/plain": [
       "0.8338384738812622"
      ]
     },
     "execution_count": 106,
     "metadata": {},
     "output_type": "execute_result"
    }
   ],
   "source": [
    "y_pred = model_lr.predict_proba(X_test)[:, 1]\n",
    "roc_auc_score(y_test, y_pred)"
   ]
  },
  {
   "cell_type": "markdown",
   "id": "286bbb92-82af-4d09-bf16-1ed5c5d327ac",
   "metadata": {},
   "source": [
    "## Decision tree"
   ]
  },
  {
   "cell_type": "code",
   "execution_count": 107,
   "id": "6ee2c554-8680-447d-8fc5-1f5ea8361297",
   "metadata": {},
   "outputs": [
    {
     "data": {
      "text/html": [
       "<style>#sk-container-id-5 {color: black;}#sk-container-id-5 pre{padding: 0;}#sk-container-id-5 div.sk-toggleable {background-color: white;}#sk-container-id-5 label.sk-toggleable__label {cursor: pointer;display: block;width: 100%;margin-bottom: 0;padding: 0.3em;box-sizing: border-box;text-align: center;}#sk-container-id-5 label.sk-toggleable__label-arrow:before {content: \"▸\";float: left;margin-right: 0.25em;color: #696969;}#sk-container-id-5 label.sk-toggleable__label-arrow:hover:before {color: black;}#sk-container-id-5 div.sk-estimator:hover label.sk-toggleable__label-arrow:before {color: black;}#sk-container-id-5 div.sk-toggleable__content {max-height: 0;max-width: 0;overflow: hidden;text-align: left;background-color: #f0f8ff;}#sk-container-id-5 div.sk-toggleable__content pre {margin: 0.2em;color: black;border-radius: 0.25em;background-color: #f0f8ff;}#sk-container-id-5 input.sk-toggleable__control:checked~div.sk-toggleable__content {max-height: 200px;max-width: 100%;overflow: auto;}#sk-container-id-5 input.sk-toggleable__control:checked~label.sk-toggleable__label-arrow:before {content: \"▾\";}#sk-container-id-5 div.sk-estimator input.sk-toggleable__control:checked~label.sk-toggleable__label {background-color: #d4ebff;}#sk-container-id-5 div.sk-label input.sk-toggleable__control:checked~label.sk-toggleable__label {background-color: #d4ebff;}#sk-container-id-5 input.sk-hidden--visually {border: 0;clip: rect(1px 1px 1px 1px);clip: rect(1px, 1px, 1px, 1px);height: 1px;margin: -1px;overflow: hidden;padding: 0;position: absolute;width: 1px;}#sk-container-id-5 div.sk-estimator {font-family: monospace;background-color: #f0f8ff;border: 1px dotted black;border-radius: 0.25em;box-sizing: border-box;margin-bottom: 0.5em;}#sk-container-id-5 div.sk-estimator:hover {background-color: #d4ebff;}#sk-container-id-5 div.sk-parallel-item::after {content: \"\";width: 100%;border-bottom: 1px solid gray;flex-grow: 1;}#sk-container-id-5 div.sk-label:hover label.sk-toggleable__label {background-color: #d4ebff;}#sk-container-id-5 div.sk-serial::before {content: \"\";position: absolute;border-left: 1px solid gray;box-sizing: border-box;top: 0;bottom: 0;left: 50%;z-index: 0;}#sk-container-id-5 div.sk-serial {display: flex;flex-direction: column;align-items: center;background-color: white;padding-right: 0.2em;padding-left: 0.2em;position: relative;}#sk-container-id-5 div.sk-item {position: relative;z-index: 1;}#sk-container-id-5 div.sk-parallel {display: flex;align-items: stretch;justify-content: center;background-color: white;position: relative;}#sk-container-id-5 div.sk-item::before, #sk-container-id-5 div.sk-parallel-item::before {content: \"\";position: absolute;border-left: 1px solid gray;box-sizing: border-box;top: 0;bottom: 0;left: 50%;z-index: -1;}#sk-container-id-5 div.sk-parallel-item {display: flex;flex-direction: column;z-index: 1;position: relative;background-color: white;}#sk-container-id-5 div.sk-parallel-item:first-child::after {align-self: flex-end;width: 50%;}#sk-container-id-5 div.sk-parallel-item:last-child::after {align-self: flex-start;width: 50%;}#sk-container-id-5 div.sk-parallel-item:only-child::after {width: 0;}#sk-container-id-5 div.sk-dashed-wrapped {border: 1px dashed gray;margin: 0 0.4em 0.5em 0.4em;box-sizing: border-box;padding-bottom: 0.4em;background-color: white;}#sk-container-id-5 div.sk-label label {font-family: monospace;font-weight: bold;display: inline-block;line-height: 1.2em;}#sk-container-id-5 div.sk-label-container {text-align: center;}#sk-container-id-5 div.sk-container {/* jupyter's `normalize.less` sets `[hidden] { display: none; }` but bootstrap.min.css set `[hidden] { display: none !important; }` so we also need the `!important` here to be able to override the default hidden behavior on the sphinx rendered scikit-learn.org. See: https://github.com/scikit-learn/scikit-learn/issues/21755 */display: inline-block !important;position: relative;}#sk-container-id-5 div.sk-text-repr-fallback {display: none;}</style><div id=\"sk-container-id-5\" class=\"sk-top-container\"><div class=\"sk-text-repr-fallback\"><pre>DecisionTreeClassifier(max_depth=3, min_samples_leaf=5, random_state=1)</pre><b>In a Jupyter environment, please rerun this cell to show the HTML representation or trust the notebook. <br />On GitHub, the HTML representation is unable to render, please try loading this page with nbviewer.org.</b></div><div class=\"sk-container\" hidden><div class=\"sk-item\"><div class=\"sk-estimator sk-toggleable\"><input class=\"sk-toggleable__control sk-hidden--visually\" id=\"sk-estimator-id-5\" type=\"checkbox\" checked><label for=\"sk-estimator-id-5\" class=\"sk-toggleable__label sk-toggleable__label-arrow\">DecisionTreeClassifier</label><div class=\"sk-toggleable__content\"><pre>DecisionTreeClassifier(max_depth=3, min_samples_leaf=5, random_state=1)</pre></div></div></div></div></div>"
      ],
      "text/plain": [
       "DecisionTreeClassifier(max_depth=3, min_samples_leaf=5, random_state=1)"
      ]
     },
     "execution_count": 107,
     "metadata": {},
     "output_type": "execute_result"
    }
   ],
   "source": [
    "model_dt = DecisionTreeClassifier(max_depth=3, min_samples_leaf=5, random_state=1)\n",
    "model_dt.fit(X_train, y_train)"
   ]
  },
  {
   "cell_type": "code",
   "execution_count": 108,
   "id": "48b907b1-b590-444e-b645-35eb7de4c976",
   "metadata": {},
   "outputs": [
    {
     "data": {
      "text/plain": [
       "0.8042431806026029"
      ]
     },
     "execution_count": 108,
     "metadata": {},
     "output_type": "execute_result"
    }
   ],
   "source": [
    "y_pred = model_dt.predict_proba(X_test)[:, 1]\n",
    "roc_auc_score(y_test, y_pred)"
   ]
  },
  {
   "cell_type": "markdown",
   "id": "c42b6e1f-a47d-482f-af1d-6d6182fd6e24",
   "metadata": {},
   "source": [
    "## Random forest"
   ]
  },
  {
   "cell_type": "code",
   "execution_count": 109,
   "id": "02d35ded-9b62-4e32-96ed-3ec4c6063d72",
   "metadata": {},
   "outputs": [
    {
     "data": {
      "text/html": [
       "<style>#sk-container-id-6 {color: black;}#sk-container-id-6 pre{padding: 0;}#sk-container-id-6 div.sk-toggleable {background-color: white;}#sk-container-id-6 label.sk-toggleable__label {cursor: pointer;display: block;width: 100%;margin-bottom: 0;padding: 0.3em;box-sizing: border-box;text-align: center;}#sk-container-id-6 label.sk-toggleable__label-arrow:before {content: \"▸\";float: left;margin-right: 0.25em;color: #696969;}#sk-container-id-6 label.sk-toggleable__label-arrow:hover:before {color: black;}#sk-container-id-6 div.sk-estimator:hover label.sk-toggleable__label-arrow:before {color: black;}#sk-container-id-6 div.sk-toggleable__content {max-height: 0;max-width: 0;overflow: hidden;text-align: left;background-color: #f0f8ff;}#sk-container-id-6 div.sk-toggleable__content pre {margin: 0.2em;color: black;border-radius: 0.25em;background-color: #f0f8ff;}#sk-container-id-6 input.sk-toggleable__control:checked~div.sk-toggleable__content {max-height: 200px;max-width: 100%;overflow: auto;}#sk-container-id-6 input.sk-toggleable__control:checked~label.sk-toggleable__label-arrow:before {content: \"▾\";}#sk-container-id-6 div.sk-estimator input.sk-toggleable__control:checked~label.sk-toggleable__label {background-color: #d4ebff;}#sk-container-id-6 div.sk-label input.sk-toggleable__control:checked~label.sk-toggleable__label {background-color: #d4ebff;}#sk-container-id-6 input.sk-hidden--visually {border: 0;clip: rect(1px 1px 1px 1px);clip: rect(1px, 1px, 1px, 1px);height: 1px;margin: -1px;overflow: hidden;padding: 0;position: absolute;width: 1px;}#sk-container-id-6 div.sk-estimator {font-family: monospace;background-color: #f0f8ff;border: 1px dotted black;border-radius: 0.25em;box-sizing: border-box;margin-bottom: 0.5em;}#sk-container-id-6 div.sk-estimator:hover {background-color: #d4ebff;}#sk-container-id-6 div.sk-parallel-item::after {content: \"\";width: 100%;border-bottom: 1px solid gray;flex-grow: 1;}#sk-container-id-6 div.sk-label:hover label.sk-toggleable__label {background-color: #d4ebff;}#sk-container-id-6 div.sk-serial::before {content: \"\";position: absolute;border-left: 1px solid gray;box-sizing: border-box;top: 0;bottom: 0;left: 50%;z-index: 0;}#sk-container-id-6 div.sk-serial {display: flex;flex-direction: column;align-items: center;background-color: white;padding-right: 0.2em;padding-left: 0.2em;position: relative;}#sk-container-id-6 div.sk-item {position: relative;z-index: 1;}#sk-container-id-6 div.sk-parallel {display: flex;align-items: stretch;justify-content: center;background-color: white;position: relative;}#sk-container-id-6 div.sk-item::before, #sk-container-id-6 div.sk-parallel-item::before {content: \"\";position: absolute;border-left: 1px solid gray;box-sizing: border-box;top: 0;bottom: 0;left: 50%;z-index: -1;}#sk-container-id-6 div.sk-parallel-item {display: flex;flex-direction: column;z-index: 1;position: relative;background-color: white;}#sk-container-id-6 div.sk-parallel-item:first-child::after {align-self: flex-end;width: 50%;}#sk-container-id-6 div.sk-parallel-item:last-child::after {align-self: flex-start;width: 50%;}#sk-container-id-6 div.sk-parallel-item:only-child::after {width: 0;}#sk-container-id-6 div.sk-dashed-wrapped {border: 1px dashed gray;margin: 0 0.4em 0.5em 0.4em;box-sizing: border-box;padding-bottom: 0.4em;background-color: white;}#sk-container-id-6 div.sk-label label {font-family: monospace;font-weight: bold;display: inline-block;line-height: 1.2em;}#sk-container-id-6 div.sk-label-container {text-align: center;}#sk-container-id-6 div.sk-container {/* jupyter's `normalize.less` sets `[hidden] { display: none; }` but bootstrap.min.css set `[hidden] { display: none !important; }` so we also need the `!important` here to be able to override the default hidden behavior on the sphinx rendered scikit-learn.org. See: https://github.com/scikit-learn/scikit-learn/issues/21755 */display: inline-block !important;position: relative;}#sk-container-id-6 div.sk-text-repr-fallback {display: none;}</style><div id=\"sk-container-id-6\" class=\"sk-top-container\"><div class=\"sk-text-repr-fallback\"><pre>RandomForestClassifier(max_depth=5, min_samples_leaf=3, n_estimators=70,\n",
       "                       random_state=1)</pre><b>In a Jupyter environment, please rerun this cell to show the HTML representation or trust the notebook. <br />On GitHub, the HTML representation is unable to render, please try loading this page with nbviewer.org.</b></div><div class=\"sk-container\" hidden><div class=\"sk-item\"><div class=\"sk-estimator sk-toggleable\"><input class=\"sk-toggleable__control sk-hidden--visually\" id=\"sk-estimator-id-6\" type=\"checkbox\" checked><label for=\"sk-estimator-id-6\" class=\"sk-toggleable__label sk-toggleable__label-arrow\">RandomForestClassifier</label><div class=\"sk-toggleable__content\"><pre>RandomForestClassifier(max_depth=5, min_samples_leaf=3, n_estimators=70,\n",
       "                       random_state=1)</pre></div></div></div></div></div>"
      ],
      "text/plain": [
       "RandomForestClassifier(max_depth=5, min_samples_leaf=3, n_estimators=70,\n",
       "                       random_state=1)"
      ]
     },
     "execution_count": 109,
     "metadata": {},
     "output_type": "execute_result"
    }
   ],
   "source": [
    "model_rf = RandomForestClassifier(max_depth=5, min_samples_leaf=3, n_estimators=70,\n",
    "                       random_state=1)\n",
    "model_rf.fit(X_train, y_train)"
   ]
  },
  {
   "cell_type": "code",
   "execution_count": 110,
   "id": "d189b352-5c40-4be0-a637-25b6f4f50aa8",
   "metadata": {},
   "outputs": [
    {
     "data": {
      "text/plain": [
       "0.8457835621322874"
      ]
     },
     "execution_count": 110,
     "metadata": {},
     "output_type": "execute_result"
    }
   ],
   "source": [
    "y_pred = model_rf.predict_proba(X_test)[:, 1]\n",
    "roc_auc_score(y_test, y_pred)"
   ]
  },
  {
   "cell_type": "markdown",
   "id": "5147cd63-ffb2-46bc-bdc2-8620eaa17572",
   "metadata": {},
   "source": [
    "## XGBoost"
   ]
  },
  {
   "cell_type": "code",
   "execution_count": 124,
   "id": "ca45af0f-12c1-4d40-8e7a-187dc0d12e36",
   "metadata": {},
   "outputs": [],
   "source": [
    "xgb_params = {\n",
    "    'eta': eta_xgb, \n",
    "    'max_depth': max_depth_xgb,\n",
    "    'min_child_weight': min_child_weight,\n",
    "    \n",
    "    'objective': 'binary:logistic',\n",
    "    'eval_metric': 'auc',\n",
    "\n",
    "    'nthread': 8,\n",
    "    'seed': 1,\n",
    "    'verbosity': 1,\n",
    "}\n",
    "\n",
    "model_xgb = xgb.train(xgb_params, dtrain, num_boost_round=200)"
   ]
  },
  {
   "cell_type": "code",
   "execution_count": 125,
   "id": "eda63ca3-1a56-467b-a8ec-cc082aa5882e",
   "metadata": {},
   "outputs": [
    {
     "data": {
      "text/plain": [
       "0.8425664217071791"
      ]
     },
     "execution_count": 125,
     "metadata": {},
     "output_type": "execute_result"
    }
   ],
   "source": [
    "y_pred = model_xgb.predict(dval)\n",
    "roc_auc_score(y_val, y_pred)"
   ]
  },
  {
   "cell_type": "code",
   "execution_count": 126,
   "id": "384fa9be-b6e1-4584-acc0-69e3fbff5cf2",
   "metadata": {},
   "outputs": [],
   "source": [
    "df_full_train_xgb = df_full_train.reset_index(drop=True)"
   ]
  },
  {
   "cell_type": "code",
   "execution_count": 127,
   "id": "5fbabfb2-eb59-448e-857a-2d2f7faa9879",
   "metadata": {},
   "outputs": [],
   "source": [
    "y_full_train = (df_full_train.heartdisease == 1).astype(int).values"
   ]
  },
  {
   "cell_type": "code",
   "execution_count": 128,
   "id": "edd296bb-31cc-4b47-9221-04150af91ea0",
   "metadata": {},
   "outputs": [],
   "source": [
    "del df_full_train_xgb['heartdisease']"
   ]
  },
  {
   "cell_type": "code",
   "execution_count": 129,
   "id": "eae2f9f4-4901-41bc-b05f-ce6b7e2f58f9",
   "metadata": {},
   "outputs": [],
   "source": [
    "dicts_full_train = df_full_train_xgb.to_dict(orient='records')\n",
    "\n",
    "dv = DictVectorizer(sparse=False)\n",
    "X_full_train = dv.fit_transform(dicts_full_train)\n",
    "\n",
    "dicts_test = df_test.to_dict(orient='records')\n",
    "X_test = dv.transform(dicts_test)"
   ]
  },
  {
   "cell_type": "code",
   "execution_count": 130,
   "id": "70a8f234-ad85-4972-947b-19ecaf6e7a0a",
   "metadata": {},
   "outputs": [],
   "source": [
    "dfulltrain = xgb.DMatrix(X_full_train, label=y_full_train,\n",
    "                    feature_names=dv.get_feature_names_out().tolist())\n",
    "\n",
    "dtest = xgb.DMatrix(X_test, feature_names=dv.get_feature_names_out().tolist())"
   ]
  },
  {
   "cell_type": "code",
   "execution_count": 131,
   "id": "660b171d-58c7-4654-9f2b-d2edef1f7908",
   "metadata": {},
   "outputs": [],
   "source": [
    "# now train model using dfulltrain\n",
    "model_xgb = xgb.train(xgb_params, dfulltrain, num_boost_round=200)"
   ]
  },
  {
   "cell_type": "code",
   "execution_count": 132,
   "id": "2f08d07e-37ed-40f5-9227-57ca6ca7411e",
   "metadata": {},
   "outputs": [],
   "source": [
    "y_pred = model_xgb.predict(dtest)"
   ]
  },
  {
   "cell_type": "code",
   "execution_count": 133,
   "id": "86597887-8fe1-40be-825a-52e30decdd5a",
   "metadata": {},
   "outputs": [
    {
     "data": {
      "text/plain": [
       "0.9413442681404884"
      ]
     },
     "execution_count": 133,
     "metadata": {},
     "output_type": "execute_result"
    }
   ],
   "source": [
    "roc_auc_score(y_test, y_pred)"
   ]
  },
  {
   "cell_type": "markdown",
   "id": "c5feb071-7b13-4073-b1d1-655dc44f1df7",
   "metadata": {},
   "source": [
    "## Conclusion"
   ]
  },
  {
   "cell_type": "markdown",
   "id": "61385c95-6d15-44da-b9f5-dd5db34fd3f4",
   "metadata": {},
   "source": [
    "| Model | AUC Score |\n",
    "|---|---|\n",
    "| Logistic Regression | 0.8338384738812622 |\n",
    "| Decision Tree | 0.8042431806026029 |\n",
    "| Random Forest | 0.8457835621322874 |\n",
    "| XGBoost | 0.9413442681404884 |\n",
    "\n",
    "Although the XGBoost model has the highest AUC score using the test set, it seems suspect because using the validation set yields a lower AUC. Because I am running out of time, I am going to pick the random forest model to deploy and try to figure out what I did wrong with the XGBoost model."
   ]
  },
  {
   "cell_type": "code",
   "execution_count": null,
   "id": "65d609db-50ec-467e-bc63-0682ceec80ba",
   "metadata": {},
   "outputs": [],
   "source": []
  }
 ],
 "metadata": {
  "kernelspec": {
   "display_name": "Python 3 (ipykernel)",
   "language": "python",
   "name": "python3"
  },
  "language_info": {
   "codemirror_mode": {
    "name": "ipython",
    "version": 3
   },
   "file_extension": ".py",
   "mimetype": "text/x-python",
   "name": "python",
   "nbconvert_exporter": "python",
   "pygments_lexer": "ipython3",
   "version": "3.10.6"
  }
 },
 "nbformat": 4,
 "nbformat_minor": 5
}
